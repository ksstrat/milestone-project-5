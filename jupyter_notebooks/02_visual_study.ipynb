{
 "cells": [
  {
   "cell_type": "markdown",
   "id": "e881b4d8",
   "metadata": {},
   "source": [
    "# 02 — Visual Study (BR1)\n",
    "\n",
    "**Objective**  \n",
    "Establish visual differentiations between healthy and mildew-infected cherry leaves.\n",
    "\n",
    "**Inputs**  \n",
    "- Dataset: `inputs/cherry_leaves_dataset/`  \n",
    "  - Subfolders: `healthy/`, `powdery_mildew/`\n",
    "\n",
    "**Outputs**  \n",
    "- Exported figures for class average images, variability images, and difference maps.  \n",
    "- Image montages per class.  \n",
    "- Files saved under: `plots/v1/`"
   ]
  },
  {
   "cell_type": "code",
   "execution_count": null,
   "id": "64443df6",
   "metadata": {},
   "outputs": [],
   "source": [
    "from pathlib import Path\n",
    "import os\n",
    "\n",
    "# Ensure working directory is project root so relative paths are stable\n",
    "nb_cwd = Path.cwd()\n",
    "project_root = nb_cwd if (nb_cwd / \"inputs\").exists() else nb_cwd.parent\n",
    "os.chdir(project_root)\n",
    "\n",
    "DATA_DIR = Path(\"inputs/cherry_leaves_dataset\")\n",
    "CLASSES = (\"healthy\", \"powdery_mildew\")\n",
    "PLOTS_DIR = Path(\"plots\") / \"v1\"\n",
    "PLOTS_DIR.mkdir(parents=True, exist_ok=True)\n",
    "\n",
    "print(\"CWD:\", Path.cwd())\n",
    "print(\"DATA_DIR:\", DATA_DIR.resolve())\n",
    "print(\"PLOTS_DIR:\", PLOTS_DIR.resolve())\n",
    "for cls in CLASSES:\n",
    "    print(f\"{cls:>16} ->\", (DATA_DIR / cls).exists())"
   ]
  }
 ],
 "metadata": {
  "kernelspec": {
   "display_name": ".venv",
   "language": "python",
   "name": "python3"
  },
  "language_info": {
   "name": "python",
   "version": "3.12.1"
  }
 },
 "nbformat": 4,
 "nbformat_minor": 5
}
