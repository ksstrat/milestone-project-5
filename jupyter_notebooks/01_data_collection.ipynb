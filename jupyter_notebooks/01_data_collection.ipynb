{
 "cells": [
  {
   "cell_type": "markdown",
   "id": "6a85e416",
   "metadata": {},
   "source": [
    "# 01 — Data Collection\n",
    "\n",
    "**Purpose**  \n",
    "Set up local dataset access and verify class distributions to ensure the project can load images reliably.\n",
    "\n",
    "**Objectives**  \n",
    "- Verify dataset folder structure (healthy / powdery_mildew).  \n",
    "- Count images per class and detect missing/corrupted files.  \n",
    "- Produce a compact summary table for later reference.\n",
    "\n",
    "**Inputs**  \n",
    "- Local dataset path: `../inputs/cherry_leaves_dataset/`  \n",
    "  - Subfolders: `healthy/`, `powdery_mildew/`\n",
    "\n",
    "**Outputs**  \n",
    "- Summary table with image counts per class (for README and EDA planning).  \n",
    "- Notes on data integrity (missing files, unexpected extensions).\n",
    "\n",
    "**Notes**  \n",
    "This notebook does *not* perform any model training. It only validates the availability and integrity of the raw data used later in EDA and modelling."
   ]
  }
 ],
 "metadata": {
  "kernelspec": {
   "display_name": ".venv",
   "language": "python",
   "name": "python3"
  },
  "language_info": {
   "name": "python",
   "version": "3.12.1"
  }
 },
 "nbformat": 4,
 "nbformat_minor": 5
}
