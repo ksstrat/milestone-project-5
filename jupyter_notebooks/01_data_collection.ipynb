{
 "cells": [
  {
   "cell_type": "markdown",
   "id": "6a85e416",
   "metadata": {},
   "source": [
    "# 01 — Data Collection\n",
    "\n",
    "**Purpose**  \n",
    "Set up local dataset access and verify class distributions to ensure the project can load images reliably.\n",
    "\n",
    "**Objectives**  \n",
    "- Verify dataset folder structure (healthy / powdery_mildew).  \n",
    "- Count images per class and detect missing/corrupted files.  \n",
    "- Produce a compact summary table for later reference.\n",
    "\n",
    "**Inputs**  \n",
    "- Local dataset path: `../inputs/cherry_leaves_dataset/`  \n",
    "  - Subfolders: `healthy/`, `powdery_mildew/`\n",
    "\n",
    "**Outputs**  \n",
    "- Summary table with image counts per class (for README and EDA planning).  \n",
    "- Notes on data integrity (missing files, unexpected extensions).\n",
    "\n",
    "**Notes**  \n",
    "This notebook does *not* perform any model training. It only validates the availability and integrity of the raw data used later in EDA and modelling."
   ]
  },
  {
   "cell_type": "code",
   "execution_count": null,
   "id": "eb39309e",
   "metadata": {},
   "outputs": [
    {
     "name": "stdout",
     "output_type": "stream",
     "text": [
      "CWD: c:\\Users\\ksstr\\Documents\\Coding\\milestone-project-5\n"
     ]
    }
   ],
   "source": [
    "from pathlib import Path\n",
    "import os\n",
    "\n",
    "# Ensure CWD is project root\n",
    "nb_cwd = Path.cwd()\n",
    "project_root = nb_cwd if (nb_cwd / \"inputs\").exists() else nb_cwd.parent\n",
    "os.chdir(project_root)\n",
    "\n",
    "print(\"CWD:\", Path.cwd())\n",
    "assert Path(\"inputs\").exists(), \"Missing 'inputs' folder at project root.\""
   ]
  },
  {
   "cell_type": "code",
   "execution_count": 15,
   "id": "85202089",
   "metadata": {},
   "outputs": [
    {
     "name": "stdout",
     "output_type": "stream",
     "text": [
      "DATA_DIR: C:\\Users\\ksstr\\Documents\\Coding\\milestone-project-5\\inputs\\cherry_leaves_dataset\n"
     ]
    },
    {
     "data": {
      "text/html": [
       "<div>\n",
       "<style scoped>\n",
       "    .dataframe tbody tr th:only-of-type {\n",
       "        vertical-align: middle;\n",
       "    }\n",
       "\n",
       "    .dataframe tbody tr th {\n",
       "        vertical-align: top;\n",
       "    }\n",
       "\n",
       "    .dataframe thead th {\n",
       "        text-align: right;\n",
       "    }\n",
       "</style>\n",
       "<table border=\"1\" class=\"dataframe\">\n",
       "  <thead>\n",
       "    <tr style=\"text-align: right;\">\n",
       "      <th></th>\n",
       "      <th>image_count</th>\n",
       "    </tr>\n",
       "  </thead>\n",
       "  <tbody>\n",
       "    <tr>\n",
       "      <th>healthy</th>\n",
       "      <td>4208</td>\n",
       "    </tr>\n",
       "    <tr>\n",
       "      <th>powdery_mildew</th>\n",
       "      <td>4208</td>\n",
       "    </tr>\n",
       "  </tbody>\n",
       "</table>\n",
       "</div>"
      ],
      "text/plain": [
       "                image_count\n",
       "healthy                4208\n",
       "powdery_mildew         4208"
      ]
     },
     "execution_count": 15,
     "metadata": {},
     "output_type": "execute_result"
    }
   ],
   "source": [
    "from pathlib import Path\n",
    "import pandas as pd\n",
    "\n",
    "DATA_DIR = Path(\"inputs/cherry_leaves_dataset\")\n",
    "CLASSES = (\"healthy\", \"powdery_mildew\")\n",
    "PATTERNS = (\"*.jpg\", \"*.jpeg\", \"*.png\", \"*.JPG\", \"*.JPEG\", \"*.PNG\")\n",
    "\n",
    "def count_images(base: Path, classes, patterns):\n",
    "    counts = {}\n",
    "    for cls in classes:\n",
    "        p = base / cls\n",
    "        n = sum(len(list(p.glob(pt))) for pt in patterns) if p.exists() else 0\n",
    "        counts[cls] = n\n",
    "    return pd.DataFrame.from_dict(counts, orient=\"index\", columns=[\"image_count\"])\n",
    "\n",
    "print(\"DATA_DIR:\", DATA_DIR.resolve())\n",
    "assert DATA_DIR.exists(), f\"Dataset folder not found: {DATA_DIR.resolve()}\"\n",
    "\n",
    "df_summary = count_images(DATA_DIR, CLASSES, PATTERNS)\n",
    "df_summary"
   ]
  },
  {
   "cell_type": "code",
   "execution_count": null,
   "id": "4f3c7b1c",
   "metadata": {},
   "outputs": [
    {
     "name": "stdout",
     "output_type": "stream",
     "text": [
      "Unexpected file types: 0\n",
      "Zero-byte files: 0\n"
     ]
    },
    {
     "data": {
      "text/plain": [
       "([], [])"
      ]
     },
     "execution_count": 16,
     "metadata": {},
     "output_type": "execute_result"
    }
   ],
   "source": [
    "# Integrity scan (unexpected extensions, zero-byte files)\n",
    "ALLOWED = {\".jpg\", \".jpeg\", \".png\"}\n",
    "\n",
    "unexpected, zero = [], []\n",
    "for cls in CLASSES:\n",
    "    p = DATA_DIR / cls\n",
    "    if not p.exists():\n",
    "        continue\n",
    "    for f in p.rglob(\"*\"):\n",
    "        if f.is_file():\n",
    "            suf = f.suffix.lower()\n",
    "            if suf not in ALLOWED:\n",
    "                unexpected.append(f)\n",
    "            elif f.stat().st_size == 0:\n",
    "                zero.append(f)\n",
    "\n",
    "print(f\"Unexpected file types: {len(unexpected)}\")\n",
    "print(f\"Zero-byte files: {len(zero)}\")\n",
    "\n",
    "unexpected[:3], zero[:3]"
   ]
  }
 ],
 "metadata": {
  "kernelspec": {
   "display_name": ".venv",
   "language": "python",
   "name": "python3"
  },
  "language_info": {
   "codemirror_mode": {
    "name": "ipython",
    "version": 3
   },
   "file_extension": ".py",
   "mimetype": "text/x-python",
   "name": "python",
   "nbconvert_exporter": "python",
   "pygments_lexer": "ipython3",
   "version": "3.12.1"
  }
 },
 "nbformat": 4,
 "nbformat_minor": 5
}
