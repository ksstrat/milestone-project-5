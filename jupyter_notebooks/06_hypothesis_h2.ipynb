{
 "cells": [
  {
   "cell_type": "markdown",
   "id": "eeec32bf",
   "metadata": {},
   "source": [
    "# 06 — Hypothesis H2: Input Size Impact\n",
    "\n",
    "**Objective**  \n",
    "Evaluate whether reducing input image size (e.g., 100×100 → 50×50) maintains model accuracy ≥ 97 %.\n",
    "\n",
    "**Inputs**  \n",
    "- Split manifests: `inputs/manifests/v1/{train,val,test}.csv`\n",
    "- Images: `inputs/cherry_leaves_dataset/{healthy,powdery_mildew}`  \n",
    "- Baseline model v1 reference (100×100)\n",
    "\n",
    "**Outputs (planned)**  \n",
    "- Trained model v2 (50×50 input)\n",
    "- Comparative evaluation report under `artifacts/v2/reports/`\n",
    "- Plots under `plots/v4/`\n",
    "\n",
    "**Notes**  \n",
    "The model architecture remains identical to v1.  \n",
    "Only the input resolution changes, allowing direct accuracy comparison."
   ]
  },
  {
   "cell_type": "code",
   "execution_count": null,
   "id": "05bae3bd",
   "metadata": {},
   "outputs": [],
   "source": [
    "from pathlib import Path\n",
    "import sys\n",
    "\n",
    "def find_project_root(start: Path) -> Path:\n",
    "    \"\"\"Walk up until a folder containing 'src' is found, else return start.\"\"\"\n",
    "    p = start\n",
    "    for _ in range(5):\n",
    "        if (p / \"src\").exists():\n",
    "            return p\n",
    "        p = p.parent\n",
    "    return start\n",
    "\n",
    "PROJECT_ROOT = find_project_root(Path.cwd())\n",
    "if str(PROJECT_ROOT) not in sys.path:\n",
    "    sys.path.insert(0, str(PROJECT_ROOT))\n",
    "\n",
    "from src.paths import PROJECT_ROOT, DATA_DIR, MANIFESTS_DIR, PLOTS_DIR, ARTIFACTS_DIR\n",
    "\n",
    "print(\"PROJECT_ROOT:\", PROJECT_ROOT)\n",
    "print(\"DATA_DIR:\", DATA_DIR)\n",
    "print(\"MANIFESTS_DIR:\", MANIFESTS_DIR)\n",
    "print(\"PLOTS_DIR:\", PLOTS_DIR)\n",
    "print(\"ARTIFACTS_DIR:\", ARTIFACTS_DIR)"
   ]
  }
 ],
 "metadata": {
  "kernelspec": {
   "display_name": ".venv",
   "language": "python",
   "name": "python3"
  },
  "language_info": {
   "name": "python",
   "version": "3.12.1"
  }
 },
 "nbformat": 4,
 "nbformat_minor": 5
}
