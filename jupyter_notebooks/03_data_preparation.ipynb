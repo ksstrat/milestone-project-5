{
 "cells": [
  {
   "cell_type": "markdown",
   "id": "4ed68f5e",
   "metadata": {},
   "source": [
    "# 03 — Data Preparation\n",
    "\n",
    "**Objective**  \n",
    "Create a deterministic train/validation/test split and persist split manifests for reproducibility.\n",
    "\n",
    "**Inputs**  \n",
    "- Image dataset: `inputs/cherry_leaves_dataset/`  \n",
    "  - Subfolders: `healthy/`, `powdery_mildew/`\n",
    "\n",
    "**Outputs**  \n",
    "- CSV manifests for each split under `inputs/manifests/v1/`:  \n",
    "  - `train.csv`, `val.csv`, `test.csv`  \n",
    "  Each file contains `filepath` and `label` columns.\n",
    "\n",
    "**Notes**  \n",
    "Splits are stratified by class with a fixed random seed to ensure reproducibility."
   ]
  },
  {
   "cell_type": "code",
   "execution_count": 1,
   "id": "92f2153b",
   "metadata": {},
   "outputs": [
    {
     "name": "stdout",
     "output_type": "stream",
     "text": [
      "CWD: c:\\Users\\ksstr\\Documents\\Coding\\milestone-project-5\n",
      "DATA_DIR: C:\\Users\\ksstr\\Documents\\Coding\\milestone-project-5\\inputs\\cherry_leaves_dataset\n",
      "MANIFESTS_DIR: C:\\Users\\ksstr\\Documents\\Coding\\milestone-project-5\\inputs\\manifests\\v1\n",
      "         healthy -> True\n",
      "  powdery_mildew -> True\n"
     ]
    }
   ],
   "source": [
    "from pathlib import Path\n",
    "import os\n",
    "\n",
    "# Ensure working directory is project root\n",
    "nb_cwd = Path.cwd()\n",
    "project_root = nb_cwd if (nb_cwd / \"inputs\").exists() else nb_cwd.parent\n",
    "os.chdir(project_root)\n",
    "\n",
    "DATA_DIR = Path(\"inputs/cherry_leaves_dataset\")\n",
    "CLASSES = (\"healthy\", \"powdery_mildew\")\n",
    "\n",
    "MANIFESTS_DIR = Path(\"inputs\") / \"manifests\" / \"v1\"\n",
    "MANIFESTS_DIR.mkdir(parents=True, exist_ok=True)\n",
    "\n",
    "print(\"CWD:\", Path.cwd())\n",
    "print(\"DATA_DIR:\", DATA_DIR.resolve())\n",
    "print(\"MANIFESTS_DIR:\", MANIFESTS_DIR.resolve())\n",
    "for cls in CLASSES:\n",
    "    print(f\"{cls:>16} ->\", (DATA_DIR / cls).exists())"
   ]
  }
 ],
 "metadata": {
  "kernelspec": {
   "display_name": ".venv",
   "language": "python",
   "name": "python3"
  },
  "language_info": {
   "codemirror_mode": {
    "name": "ipython",
    "version": 3
   },
   "file_extension": ".py",
   "mimetype": "text/x-python",
   "name": "python",
   "nbconvert_exporter": "python",
   "pygments_lexer": "ipython3",
   "version": "3.12.1"
  }
 },
 "nbformat": 4,
 "nbformat_minor": 5
}
