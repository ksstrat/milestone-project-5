{
 "cells": [
  {
   "cell_type": "markdown",
   "id": "4ed68f5e",
   "metadata": {},
   "source": [
    "# 03 — Data Preparation\n",
    "\n",
    "**Objective**  \n",
    "Create a deterministic train/validation/test split and persist split manifests for reproducibility.\n",
    "\n",
    "**Inputs**  \n",
    "- Image dataset: `inputs/cherry_leaves_dataset/`  \n",
    "  - Subfolders: `healthy/`, `powdery_mildew/`\n",
    "\n",
    "**Outputs**  \n",
    "- CSV manifests for each split under `inputs/manifests/v1/`:  \n",
    "  - `train.csv`, `val.csv`, `test.csv`  \n",
    "  Each file contains `filepath` and `label` columns.\n",
    "\n",
    "**Notes**  \n",
    "Splits are stratified by class with a fixed random seed to ensure reproducibility."
   ]
  },
  {
   "cell_type": "code",
   "execution_count": 5,
   "id": "92f2153b",
   "metadata": {},
   "outputs": [
    {
     "name": "stdout",
     "output_type": "stream",
     "text": [
      "PROJECT_ROOT: c:\\Users\\ksstr\\Documents\\Coding\\milestone-project-5\n",
      "DATA_DIR: C:\\Users\\ksstr\\Documents\\Coding\\milestone-project-5\\inputs\\cherry_leaves_dataset\n",
      "MANIFESTS_DIR: C:\\Users\\ksstr\\Documents\\Coding\\milestone-project-5\\inputs\\manifests\\v1\n"
     ]
    }
   ],
   "source": [
    "from pathlib import Path\n",
    "import sys\n",
    "\n",
    "def find_project_root(start: Path) -> Path:\n",
    "    \"\"\"Walk up until a folder containing 'src' is found, else return start.\"\"\"\n",
    "    p = start\n",
    "    for _ in range(4):\n",
    "        if (p / \"src\").exists():\n",
    "            return p\n",
    "        p = p.parent\n",
    "    return start\n",
    "\n",
    "PROJECT_ROOT = find_project_root(Path.cwd())\n",
    "if str(PROJECT_ROOT) not in sys.path:\n",
    "    sys.path.insert(0, str(PROJECT_ROOT))\n",
    "\n",
    "from src.paths import DATA_DIR, MANIFESTS_DIR\n",
    "\n",
    "print(\"PROJECT_ROOT:\", PROJECT_ROOT)\n",
    "print(\"DATA_DIR:\", DATA_DIR)\n",
    "print(\"MANIFESTS_DIR:\", MANIFESTS_DIR)"
   ]
  },
  {
   "cell_type": "markdown",
   "id": "bbe1acd3",
   "metadata": {},
   "source": [
    "### Create deterministic stratified train/val/test splits\n",
    "Build reproducible splits (70/15/15) and persist CSV manifests with absolute filepaths and labels."
   ]
  },
  {
   "cell_type": "code",
   "execution_count": 6,
   "id": "492c636e",
   "metadata": {},
   "outputs": [
    {
     "name": "stdout",
     "output_type": "stream",
     "text": [
      "Total images: 4208\n",
      "label\n",
      "healthy           2104\n",
      "powdery_mildew    2104\n",
      "Name: count, dtype: int64 \n",
      "\n",
      "Saved: C:\\Users\\ksstr\\Documents\\Coding\\milestone-project-5\\inputs\\manifests\\v1\\train.csv\n",
      "Saved: C:\\Users\\ksstr\\Documents\\Coding\\milestone-project-5\\inputs\\manifests\\v1\\val.csv\n",
      "Saved: C:\\Users\\ksstr\\Documents\\Coding\\milestone-project-5\\inputs\\manifests\\v1\\test.csv\n"
     ]
    }
   ],
   "source": [
    "import pandas as pd\n",
    "from sklearn.model_selection import train_test_split\n",
    "\n",
    "# Configuration\n",
    "MANIFESTS_DIR.mkdir(parents=True, exist_ok=True)\n",
    "\n",
    "ALLOWED = {\".jpg\", \".jpeg\", \".png\", \".JPG\", \".JPEG\", \".PNG\"}\n",
    "CLASSES = (\"healthy\", \"powdery_mildew\")\n",
    "SEED = 42\n",
    "\n",
    "# Collect files and labels\n",
    "rows = []\n",
    "for label in CLASSES:\n",
    "    cls_dir = DATA_DIR / label\n",
    "    for p in cls_dir.iterdir():\n",
    "        if p.is_file() and p.suffix in ALLOWED:\n",
    "            rows.append({\"filepath\": str(p.resolve()), \"label\": label})\n",
    "\n",
    "df = pd.DataFrame(rows)\n",
    "assert not df.empty, \"No images found to split.\"\n",
    "print(\"Total images:\", len(df))\n",
    "print(df[\"label\"].value_counts(), \"\\n\")\n",
    "\n",
    "# Stratified train/temp split (70/30)\n",
    "df_train, df_temp = train_test_split(\n",
    "    df,\n",
    "    test_size=0.30,\n",
    "    random_state=SEED,\n",
    "    shuffle=True,\n",
    "    stratify=df[\"label\"],\n",
    ")\n",
    "\n",
    "# Stratified val/test split from temp (15/15 overall)\n",
    "df_val, df_test = train_test_split(\n",
    "    df_temp,\n",
    "    test_size=0.50,\n",
    "    random_state=SEED,\n",
    "    shuffle=True,\n",
    "    stratify=df_temp[\"label\"],\n",
    ")\n",
    "\n",
    "# Persist manifests\n",
    "out_train = MANIFESTS_DIR / \"train.csv\"\n",
    "out_val = MANIFESTS_DIR / \"val.csv\"\n",
    "out_test = MANIFESTS_DIR / \"test.csv\"\n",
    "\n",
    "df_train.to_csv(out_train, index=False)\n",
    "df_val.to_csv(out_val, index=False)\n",
    "df_test.to_csv(out_test, index=False)\n",
    "\n",
    "print(\"Saved:\", out_train.resolve())\n",
    "print(\"Saved:\", out_val.resolve())\n",
    "print(\"Saved:\", out_test.resolve())"
   ]
  },
  {
   "cell_type": "markdown",
   "id": "51ba70cc",
   "metadata": {},
   "source": [
    "### Verify split sizes and class balance\n",
    "Quick validation to confirm that the train/val/test splits follow the 70/15/15 ratio and maintain the same class distribution across all subsets."
   ]
  },
  {
   "cell_type": "code",
   "execution_count": 7,
   "id": "50a18a8f",
   "metadata": {},
   "outputs": [
    {
     "name": "stdout",
     "output_type": "stream",
     "text": [
      "train size: 2945\n",
      "label\n",
      "powdery_mildew    0.5\n",
      "healthy           0.5\n",
      "Name: proportion, dtype: float64 \n",
      "\n",
      "  val size: 631\n",
      "label\n",
      "healthy           0.501\n",
      "powdery_mildew    0.499\n",
      "Name: proportion, dtype: float64 \n",
      "\n",
      " test size: 632\n",
      "label\n",
      "powdery_mildew    0.5\n",
      "healthy           0.5\n",
      "Name: proportion, dtype: float64 \n",
      "\n"
     ]
    }
   ],
   "source": [
    "for name, df_split in [(\"train\", df_train), (\"val\", df_val), (\"test\", df_test)]:\n",
    "    print(f\"{name:>5} size:\", len(df_split))\n",
    "    print(df_split[\"label\"].value_counts(normalize=True).round(3), \"\\n\")"
   ]
  },
  {
   "cell_type": "code",
   "execution_count": 8,
   "id": "8142f29f",
   "metadata": {},
   "outputs": [
    {
     "data": {
      "text/plain": [
       "((16, 100, 100, 3),\n",
       " (16,),\n",
       " 0.0,\n",
       " 0.9882352948188782,\n",
       " array([1, 1, 0, 1, 0], dtype=int64))"
      ]
     },
     "execution_count": 8,
     "metadata": {},
     "output_type": "execute_result"
    }
   ],
   "source": [
    "from src.data_management import load_manifest, batch_iterator, ImageSpec\n",
    "\n",
    "train_df = load_manifest(Path(\"inputs/manifests/v1/train.csv\"))\n",
    "spec = ImageSpec(width=100, height=100)\n",
    "\n",
    "it = batch_iterator(train_df, batch_size=16, spec=spec, shuffle=True, seed=42)\n",
    "X, y = next(it)\n",
    "X.shape, y.shape, float(X.min()), float(X.max()), y[:5]"
   ]
  }
 ],
 "metadata": {
  "kernelspec": {
   "display_name": ".venv",
   "language": "python",
   "name": "python3"
  },
  "language_info": {
   "codemirror_mode": {
    "name": "ipython",
    "version": 3
   },
   "file_extension": ".py",
   "mimetype": "text/x-python",
   "name": "python",
   "nbconvert_exporter": "python",
   "pygments_lexer": "ipython3",
   "version": "3.12.1"
  }
 },
 "nbformat": 4,
 "nbformat_minor": 5
}
