{
 "cells": [
  {
   "cell_type": "markdown",
   "id": "f7120052",
   "metadata": {},
   "source": [
    "# 05 — Modelling & Evaluation (CNN)\n",
    "\n",
    "**Objective**  \n",
    "Train and evaluate a baseline CNN to predict powdery mildew from cherry leaf images.\n",
    "\n",
    "**Inputs**  \n",
    "- Split manifests: `inputs/manifests/v1/{train,val,test}.csv`\n",
    "- Images: `inputs/cherry_leaves_dataset/{healthy,powdery_mildew}`\n",
    "\n",
    "**Outputs (planned)**  \n",
    "- Trained model artifacts under `artifacts/v1/models/`\n",
    "- Training history & evaluation plots under `plots/v3/`\n",
    "- Metrics report under `artifacts/v1/reports/`\n",
    "\n",
    "**Notes**  \n",
    "Images will be resized to a fixed input size and normalized. Early stopping and model checkpointing will be used."
   ]
  },
  {
   "cell_type": "code",
   "execution_count": 1,
   "id": "48584bab",
   "metadata": {},
   "outputs": [
    {
     "name": "stdout",
     "output_type": "stream",
     "text": [
      "PROJECT_ROOT: C:\\Users\\ksstr\\Documents\\Coding\\milestone-project-5\n",
      "DATA_DIR: C:\\Users\\ksstr\\Documents\\Coding\\milestone-project-5\\inputs\\cherry_leaves_dataset\n",
      "MANIFESTS_DIR: C:\\Users\\ksstr\\Documents\\Coding\\milestone-project-5\\inputs\\manifests\\v1\n",
      "PLOTS_DIR: C:\\Users\\ksstr\\Documents\\Coding\\milestone-project-5\\plots\\v1\n",
      "ARTIFACTS_DIR: C:\\Users\\ksstr\\Documents\\Coding\\milestone-project-5\\artifacts\n"
     ]
    }
   ],
   "source": [
    "from pathlib import Path\n",
    "import sys\n",
    "\n",
    "def find_project_root(start: Path) -> Path:\n",
    "    \"\"\"Walk up until a folder containing 'src' is found, else return start.\"\"\"\n",
    "    p = start\n",
    "    for _ in range(5):\n",
    "        if (p / \"src\").exists():\n",
    "            return p\n",
    "        p = p.parent\n",
    "    return start\n",
    "\n",
    "PROJECT_ROOT = find_project_root(Path.cwd())\n",
    "if str(PROJECT_ROOT) not in sys.path:\n",
    "    sys.path.insert(0, str(PROJECT_ROOT))\n",
    "\n",
    "from src.paths import PROJECT_ROOT, DATA_DIR, MANIFESTS_DIR, PLOTS_DIR, ARTIFACTS_DIR\n",
    "\n",
    "print(\"PROJECT_ROOT:\", PROJECT_ROOT)\n",
    "print(\"DATA_DIR:\", DATA_DIR)\n",
    "print(\"MANIFESTS_DIR:\", MANIFESTS_DIR)\n",
    "print(\"PLOTS_DIR:\", PLOTS_DIR)\n",
    "print(\"ARTIFACTS_DIR:\", ARTIFACTS_DIR)"
   ]
  },
  {
   "cell_type": "code",
   "execution_count": 2,
   "id": "67009004",
   "metadata": {},
   "outputs": [
    {
     "name": "stdout",
     "output_type": "stream",
     "text": [
      "Config → IMG_SIZE: (100, 100) | BATCH_SIZE: 32 | SEED: 42\n"
     ]
    }
   ],
   "source": [
    "# Modelling configuration\n",
    "IMG_SIZE = (100, 100)   # (width, height)\n",
    "BATCH_SIZE = 32\n",
    "SEED = 42\n",
    "\n",
    "print(\"Config → IMG_SIZE:\", IMG_SIZE, \"| BATCH_SIZE:\", BATCH_SIZE, \"| SEED:\", SEED)"
   ]
  },
  {
   "cell_type": "code",
   "execution_count": 3,
   "id": "b4c3b7cd",
   "metadata": {},
   "outputs": [
    {
     "name": "stdout",
     "output_type": "stream",
     "text": [
      "train n=2945\n",
      "label\n",
      "powdery_mildew    0.5\n",
      "healthy           0.5\n",
      "Name: proportion, dtype: float64 \n",
      "\n",
      "  val n=631\n",
      "label\n",
      "healthy           0.501\n",
      "powdery_mildew    0.499\n",
      "Name: proportion, dtype: float64 \n",
      "\n",
      " test n=632\n",
      "label\n",
      "powdery_mildew    0.5\n",
      "healthy           0.5\n",
      "Name: proportion, dtype: float64 \n",
      "\n"
     ]
    },
    {
     "data": {
      "text/html": [
       "<div>\n",
       "<style scoped>\n",
       "    .dataframe tbody tr th:only-of-type {\n",
       "        vertical-align: middle;\n",
       "    }\n",
       "\n",
       "    .dataframe tbody tr th {\n",
       "        vertical-align: top;\n",
       "    }\n",
       "\n",
       "    .dataframe thead th {\n",
       "        text-align: right;\n",
       "    }\n",
       "</style>\n",
       "<table border=\"1\" class=\"dataframe\">\n",
       "  <thead>\n",
       "    <tr style=\"text-align: right;\">\n",
       "      <th></th>\n",
       "      <th>filepath</th>\n",
       "      <th>label</th>\n",
       "    </tr>\n",
       "  </thead>\n",
       "  <tbody>\n",
       "    <tr>\n",
       "      <th>0</th>\n",
       "      <td>C:\\Users\\ksstr\\Documents\\Coding\\milestone-proj...</td>\n",
       "      <td>healthy</td>\n",
       "    </tr>\n",
       "    <tr>\n",
       "      <th>1</th>\n",
       "      <td>C:\\Users\\ksstr\\Documents\\Coding\\milestone-proj...</td>\n",
       "      <td>powdery_mildew</td>\n",
       "    </tr>\n",
       "    <tr>\n",
       "      <th>2</th>\n",
       "      <td>C:\\Users\\ksstr\\Documents\\Coding\\milestone-proj...</td>\n",
       "      <td>healthy</td>\n",
       "    </tr>\n",
       "  </tbody>\n",
       "</table>\n",
       "</div>"
      ],
      "text/plain": [
       "                                            filepath           label\n",
       "0  C:\\Users\\ksstr\\Documents\\Coding\\milestone-proj...         healthy\n",
       "1  C:\\Users\\ksstr\\Documents\\Coding\\milestone-proj...  powdery_mildew\n",
       "2  C:\\Users\\ksstr\\Documents\\Coding\\milestone-proj...         healthy"
      ]
     },
     "metadata": {},
     "output_type": "display_data"
    }
   ],
   "source": [
    "import pandas as pd\n",
    "\n",
    "paths = {\n",
    "    \"train\": MANIFESTS_DIR / \"train.csv\",\n",
    "    \"val\":   MANIFESTS_DIR / \"val.csv\",\n",
    "    \"test\":  MANIFESTS_DIR / \"test.csv\",\n",
    "}\n",
    "\n",
    "for name, p in paths.items():\n",
    "    assert p.exists(), f\"Missing manifest: {p}\"\n",
    "\n",
    "df_train = pd.read_csv(paths[\"train\"])\n",
    "df_val   = pd.read_csv(paths[\"val\"])\n",
    "df_test  = pd.read_csv(paths[\"test\"])\n",
    "\n",
    "for name, df in [(\"train\", df_train), (\"val\", df_val), (\"test\", df_test)]:\n",
    "    print(f\"{name:>5} n={len(df)}\")\n",
    "    vc = df[\"label\"].value_counts(normalize=True).rename(\"proportion\").round(3)\n",
    "    print(vc, \"\\n\")\n",
    "\n",
    "display(df_train.head(3))"
   ]
  },
  {
   "cell_type": "markdown",
   "id": "c008f79f",
   "metadata": {},
   "source": [
    "### Pre-flight checks\n",
    "\n",
    "- Split manifests found and loaded successfully.\n",
    "- Class proportions are approximately balanced across train/val/test.\n",
    "- Next step: implement a TensorFlow `tf.data` pipeline (decode → resize → normalize → batch → prefetch) using these manifests."
   ]
  }
 ],
 "metadata": {
  "kernelspec": {
   "display_name": ".venv",
   "language": "python",
   "name": "python3"
  },
  "language_info": {
   "codemirror_mode": {
    "name": "ipython",
    "version": 3
   },
   "file_extension": ".py",
   "mimetype": "text/x-python",
   "name": "python",
   "nbconvert_exporter": "python",
   "pygments_lexer": "ipython3",
   "version": "3.12.1"
  }
 },
 "nbformat": 4,
 "nbformat_minor": 5
}
