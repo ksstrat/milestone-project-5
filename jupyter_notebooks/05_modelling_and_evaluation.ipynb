{
 "cells": [
  {
   "cell_type": "markdown",
   "id": "f7120052",
   "metadata": {},
   "source": [
    "# 05 — Modelling & Evaluation (CNN)\n",
    "\n",
    "**Objective**  \n",
    "Train and evaluate a baseline CNN to predict powdery mildew from cherry leaf images.\n",
    "\n",
    "**Inputs**  \n",
    "- Split manifests: `inputs/manifests/v1/{train,val,test}.csv`\n",
    "- Images: `inputs/cherry_leaves_dataset/{healthy,powdery_mildew}`\n",
    "\n",
    "**Outputs (planned)**  \n",
    "- Trained model artifacts under `artifacts/v1/models/`\n",
    "- Training history & evaluation plots under `plots/v3/`\n",
    "- Metrics report under `artifacts/v1/reports/`\n",
    "\n",
    "**Notes**  \n",
    "Images will be resized to a fixed input size and normalized. Early stopping and model checkpointing will be used."
   ]
  },
  {
   "cell_type": "code",
   "execution_count": 20,
   "id": "48584bab",
   "metadata": {},
   "outputs": [
    {
     "name": "stdout",
     "output_type": "stream",
     "text": [
      "PROJECT_ROOT: C:\\Users\\ksstr\\Documents\\Coding\\milestone-project-5\n",
      "DATA_DIR: C:\\Users\\ksstr\\Documents\\Coding\\milestone-project-5\\inputs\\cherry_leaves_dataset\n",
      "MANIFESTS_DIR: C:\\Users\\ksstr\\Documents\\Coding\\milestone-project-5\\inputs\\manifests\\v1\n",
      "PLOTS_DIR: C:\\Users\\ksstr\\Documents\\Coding\\milestone-project-5\\plots\\v1\n",
      "ARTIFACTS_DIR: C:\\Users\\ksstr\\Documents\\Coding\\milestone-project-5\\artifacts\n"
     ]
    }
   ],
   "source": [
    "from pathlib import Path\n",
    "import sys\n",
    "\n",
    "def find_project_root(start: Path) -> Path:\n",
    "    \"\"\"Walk up until a folder containing 'src' is found, else return start.\"\"\"\n",
    "    p = start\n",
    "    for _ in range(5):\n",
    "        if (p / \"src\").exists():\n",
    "            return p\n",
    "        p = p.parent\n",
    "    return start\n",
    "\n",
    "PROJECT_ROOT = find_project_root(Path.cwd())\n",
    "if str(PROJECT_ROOT) not in sys.path:\n",
    "    sys.path.insert(0, str(PROJECT_ROOT))\n",
    "\n",
    "from src.paths import PROJECT_ROOT, DATA_DIR, MANIFESTS_DIR, PLOTS_DIR, ARTIFACTS_DIR\n",
    "\n",
    "print(\"PROJECT_ROOT:\", PROJECT_ROOT)\n",
    "print(\"DATA_DIR:\", DATA_DIR)\n",
    "print(\"MANIFESTS_DIR:\", MANIFESTS_DIR)\n",
    "print(\"PLOTS_DIR:\", PLOTS_DIR)\n",
    "print(\"ARTIFACTS_DIR:\", ARTIFACTS_DIR)"
   ]
  },
  {
   "cell_type": "code",
   "execution_count": 21,
   "id": "67009004",
   "metadata": {},
   "outputs": [
    {
     "name": "stdout",
     "output_type": "stream",
     "text": [
      "Config → IMG_SIZE: (100, 100) | BATCH_SIZE: 32 | SEED: 42\n"
     ]
    }
   ],
   "source": [
    "# Modelling configuration\n",
    "IMG_SIZE = (100, 100)   # (width, height)\n",
    "BATCH_SIZE = 32\n",
    "SEED = 42\n",
    "\n",
    "print(\"Config → IMG_SIZE:\", IMG_SIZE, \"| BATCH_SIZE:\", BATCH_SIZE, \"| SEED:\", SEED)"
   ]
  },
  {
   "cell_type": "code",
   "execution_count": 22,
   "id": "b4c3b7cd",
   "metadata": {},
   "outputs": [
    {
     "name": "stdout",
     "output_type": "stream",
     "text": [
      "train n=2945\n",
      "label\n",
      "powdery_mildew    0.5\n",
      "healthy           0.5\n",
      "Name: proportion, dtype: float64 \n",
      "\n",
      "  val n=631\n",
      "label\n",
      "healthy           0.501\n",
      "powdery_mildew    0.499\n",
      "Name: proportion, dtype: float64 \n",
      "\n",
      " test n=632\n",
      "label\n",
      "powdery_mildew    0.5\n",
      "healthy           0.5\n",
      "Name: proportion, dtype: float64 \n",
      "\n"
     ]
    },
    {
     "data": {
      "text/html": [
       "<div>\n",
       "<style scoped>\n",
       "    .dataframe tbody tr th:only-of-type {\n",
       "        vertical-align: middle;\n",
       "    }\n",
       "\n",
       "    .dataframe tbody tr th {\n",
       "        vertical-align: top;\n",
       "    }\n",
       "\n",
       "    .dataframe thead th {\n",
       "        text-align: right;\n",
       "    }\n",
       "</style>\n",
       "<table border=\"1\" class=\"dataframe\">\n",
       "  <thead>\n",
       "    <tr style=\"text-align: right;\">\n",
       "      <th></th>\n",
       "      <th>filepath</th>\n",
       "      <th>label</th>\n",
       "    </tr>\n",
       "  </thead>\n",
       "  <tbody>\n",
       "    <tr>\n",
       "      <th>0</th>\n",
       "      <td>C:\\Users\\ksstr\\Documents\\Coding\\milestone-proj...</td>\n",
       "      <td>healthy</td>\n",
       "    </tr>\n",
       "    <tr>\n",
       "      <th>1</th>\n",
       "      <td>C:\\Users\\ksstr\\Documents\\Coding\\milestone-proj...</td>\n",
       "      <td>powdery_mildew</td>\n",
       "    </tr>\n",
       "    <tr>\n",
       "      <th>2</th>\n",
       "      <td>C:\\Users\\ksstr\\Documents\\Coding\\milestone-proj...</td>\n",
       "      <td>healthy</td>\n",
       "    </tr>\n",
       "  </tbody>\n",
       "</table>\n",
       "</div>"
      ],
      "text/plain": [
       "                                            filepath           label\n",
       "0  C:\\Users\\ksstr\\Documents\\Coding\\milestone-proj...         healthy\n",
       "1  C:\\Users\\ksstr\\Documents\\Coding\\milestone-proj...  powdery_mildew\n",
       "2  C:\\Users\\ksstr\\Documents\\Coding\\milestone-proj...         healthy"
      ]
     },
     "metadata": {},
     "output_type": "display_data"
    }
   ],
   "source": [
    "import pandas as pd\n",
    "\n",
    "paths = {\n",
    "    \"train\": MANIFESTS_DIR / \"train.csv\",\n",
    "    \"val\":   MANIFESTS_DIR / \"val.csv\",\n",
    "    \"test\":  MANIFESTS_DIR / \"test.csv\",\n",
    "}\n",
    "\n",
    "for name, p in paths.items():\n",
    "    assert p.exists(), f\"Missing manifest: {p}\"\n",
    "\n",
    "df_train = pd.read_csv(paths[\"train\"])\n",
    "df_val   = pd.read_csv(paths[\"val\"])\n",
    "df_test  = pd.read_csv(paths[\"test\"])\n",
    "\n",
    "for name, df in [(\"train\", df_train), (\"val\", df_val), (\"test\", df_test)]:\n",
    "    print(f\"{name:>5} n={len(df)}\")\n",
    "    vc = df[\"label\"].value_counts(normalize=True).rename(\"proportion\").round(3)\n",
    "    print(vc, \"\\n\")\n",
    "\n",
    "display(df_train.head(3))"
   ]
  },
  {
   "cell_type": "markdown",
   "id": "c008f79f",
   "metadata": {},
   "source": [
    "### Pre-flight checks\n",
    "\n",
    "- Split manifests found and loaded successfully.\n",
    "- Class proportions are approximately balanced across train/val/test.\n",
    "- Next step: implement a TensorFlow `tf.data` pipeline (decode → resize → normalize → batch → prefetch) using these manifests."
   ]
  },
  {
   "cell_type": "code",
   "execution_count": 23,
   "id": "1d797121",
   "metadata": {},
   "outputs": [
    {
     "name": "stdout",
     "output_type": "stream",
     "text": [
      "Label map (in-memory): {'healthy': 0, 'powdery_mildew': 1}\n"
     ]
    }
   ],
   "source": [
    "import tensorflow as tf\n",
    "import numpy as np \n",
    "\n",
    "# Ensure reproducibility\n",
    "SEED = 42\n",
    "tf.random.set_seed(SEED)\n",
    "np.random.seed(SEED)\n",
    "\n",
    "AUTOTUNE = tf.data.AUTOTUNE\n",
    "\n",
    "# Stable label index from train manifest (sorted → reproducible)\n",
    "labels_sorted = sorted(df_train[\"label\"].unique().tolist())\n",
    "label_to_index = {lbl: i for i, lbl in enumerate(labels_sorted)}\n",
    "index_to_label = {i: lbl for lbl, i in label_to_index.items()}\n",
    "\n",
    "print(\"Label map (in-memory):\", label_to_index)"
   ]
  },
  {
   "cell_type": "code",
   "execution_count": 24,
   "id": "ac0794df",
   "metadata": {},
   "outputs": [],
   "source": [
    "def decode_and_resize(img_bytes, img_size=(100, 100)):\n",
    "    \"\"\"Decode JPEG/PNG, force 3 channels, resize, and return float32 in [0,1].\"\"\"\n",
    "    img = tf.io.decode_image(img_bytes, channels=3, expand_animations=False)\n",
    "    img.set_shape([None, None, 3])  # static rank for TF graph\n",
    "    img = tf.image.resize(img, img_size, method=tf.image.ResizeMethod.BILINEAR)\n",
    "    img = tf.cast(img, tf.float32) / 255.0\n",
    "    return img\n",
    "\n",
    "def load_example(path, label, img_size=(100, 100)):\n",
    "    \"\"\"Read file, decode, resize, normalize; return (image, int_label).\"\"\"\n",
    "    bytes_ = tf.io.read_file(path)\n",
    "    img = decode_and_resize(bytes_, img_size)\n",
    "    return img, label\n",
    "\n",
    "def make_dataset(manifest_df, img_size=(100, 100), batch_size=32, training=False, seed=42):\n",
    "    \"\"\"Build a performant tf.data pipeline from a manifest DataFrame.\"\"\"\n",
    "    paths = manifest_df[\"filepath\"].astype(str).values\n",
    "    labels = manifest_df[\"label\"].map(label_to_index).astype(\"int32\").values\n",
    "\n",
    "    ds = tf.data.Dataset.from_tensor_slices((paths, labels))\n",
    "    if training:\n",
    "        ds = ds.shuffle(buffer_size=len(manifest_df), seed=seed, reshuffle_each_iteration=True)\n",
    "\n",
    "    ds = ds.map(lambda p, y: load_example(p, y, img_size), num_parallel_calls=AUTOTUNE)\n",
    "    ds = ds.batch(batch_size, drop_remainder=training)  # fixed batch size during training\n",
    "    ds = ds.prefetch(AUTOTUNE)\n",
    "    return ds"
   ]
  },
  {
   "cell_type": "markdown",
   "id": "e6d4393c",
   "metadata": {},
   "source": [
    "### Functional Smoke Test — Input Pipeline Validation\n",
    "\n",
    "Quick functional smoke test is run to ensure the `tf.data` pipeline operates correctly.\n",
    "\n",
    "This test confirms that:\n",
    "- All file paths in the manifests are readable.\n",
    "- Images are properly decoded, resized to 100×100, and normalized to [0,1].\n",
    "- Labels are correctly mapped to their integer indices based on the stable label map.\n",
    "- Batch dimensions and value ranges are consistent with expectations.\n",
    "\n",
    "If this step passes without errors, the dataset is ready for model training."
   ]
  },
  {
   "cell_type": "code",
   "execution_count": 25,
   "id": "ac459a36",
   "metadata": {},
   "outputs": [
    {
     "name": "stdout",
     "output_type": "stream",
     "text": [
      "Train batch → (32, 100, 100, 3) (32,) | range: 0.0 → 1.0\n",
      "Labels sample (int): [0 0 1 1 1 0 1 0]\n",
      "Decoded labels sample: ['healthy', 'healthy', 'powdery_mildew', 'powdery_mildew', 'powdery_mildew', 'healthy', 'powdery_mildew', 'healthy']\n"
     ]
    }
   ],
   "source": [
    "# Build datasets\n",
    "train_ds = make_dataset(df_train, img_size=IMG_SIZE, batch_size=BATCH_SIZE, training=True,  seed=SEED)\n",
    "val_ds   = make_dataset(df_val,   img_size=IMG_SIZE, batch_size=BATCH_SIZE, training=False, seed=SEED)\n",
    "test_ds  = make_dataset(df_test,  img_size=IMG_SIZE, batch_size=BATCH_SIZE, training=False, seed=SEED)\n",
    "\n",
    "# Inspect one batch\n",
    "xb, yb = next(iter(train_ds))\n",
    "print(\"Train batch →\", xb.shape, yb.shape, \"| range:\", float(tf.reduce_min(xb)), \"→\", float(tf.reduce_max(xb)))\n",
    "print(\"Labels sample (int):\", yb[:8].numpy())\n",
    "print(\"Decoded labels sample:\", [index_to_label[int(i)] for i in yb[:8].numpy()])"
   ]
  },
  {
   "cell_type": "markdown",
   "id": "f87e17af",
   "metadata": {},
   "source": [
    "### Input pipeline checks\n",
    "\n",
    "- Manifests successfully converted to `tf.data` datasets.\n",
    "- Decoding, resizing to 100×100, and normalization to [0,1] verified on a sample batch.\n",
    "\n",
    "**Next:** define a compact baseline CNN (softmax), add EarlyStopping & ModelCheckpoint, and run v1 training."
   ]
  },
  {
   "cell_type": "markdown",
   "id": "0e2fad14",
   "metadata": {},
   "source": [
    "### TensorFlow–Keras Integration and Baseline CNN (v1)\n",
    "\n",
    "The model is implemented using TensorFlow’s integrated **Keras API**, where:\n",
    "- `tf.data` handles efficient data loading and batching,\n",
    "- `keras` defines and trains the model.\n",
    "\n",
    "A compact convolutional neural network is trained as the first baseline model.\n",
    "- Input: 100×100 RGB images  \n",
    "- Two convolutional blocks (Conv → ReLU → MaxPool)  \n",
    "- Dense layer with Dropout regularization  \n",
    "- Softmax output (2 classes)\n",
    "\n",
    "The network is compiled with the **Adam optimizer** and **Sparse Categorical Crossentropy loss**."
   ]
  },
  {
   "cell_type": "code",
   "execution_count": null,
   "id": "bca4c219",
   "metadata": {},
   "outputs": [
    {
     "data": {
      "text/html": [
       "<pre style=\"white-space:pre;overflow-x:auto;line-height:normal;font-family:Menlo,'DejaVu Sans Mono',consolas,'Courier New',monospace\"><span style=\"font-weight: bold\">Model: \"sequential\"</span>\n",
       "</pre>\n"
      ],
      "text/plain": [
       "\u001b[1mModel: \"sequential\"\u001b[0m\n"
      ]
     },
     "metadata": {},
     "output_type": "display_data"
    },
    {
     "data": {
      "text/html": [
       "<pre style=\"white-space:pre;overflow-x:auto;line-height:normal;font-family:Menlo,'DejaVu Sans Mono',consolas,'Courier New',monospace\">┏━━━━━━━━━━━━━━━━━━━━━━━━━━━━━━━━━┳━━━━━━━━━━━━━━━━━━━━━━━━┳━━━━━━━━━━━━━━━┓\n",
       "┃<span style=\"font-weight: bold\"> Layer (type)                    </span>┃<span style=\"font-weight: bold\"> Output Shape           </span>┃<span style=\"font-weight: bold\">       Param # </span>┃\n",
       "┡━━━━━━━━━━━━━━━━━━━━━━━━━━━━━━━━━╇━━━━━━━━━━━━━━━━━━━━━━━━╇━━━━━━━━━━━━━━━┩\n",
       "│ conv2d (<span style=\"color: #0087ff; text-decoration-color: #0087ff\">Conv2D</span>)                 │ (<span style=\"color: #00d7ff; text-decoration-color: #00d7ff\">None</span>, <span style=\"color: #00af00; text-decoration-color: #00af00\">100</span>, <span style=\"color: #00af00; text-decoration-color: #00af00\">100</span>, <span style=\"color: #00af00; text-decoration-color: #00af00\">32</span>)   │           <span style=\"color: #00af00; text-decoration-color: #00af00\">896</span> │\n",
       "├─────────────────────────────────┼────────────────────────┼───────────────┤\n",
       "│ max_pooling2d (<span style=\"color: #0087ff; text-decoration-color: #0087ff\">MaxPooling2D</span>)    │ (<span style=\"color: #00d7ff; text-decoration-color: #00d7ff\">None</span>, <span style=\"color: #00af00; text-decoration-color: #00af00\">50</span>, <span style=\"color: #00af00; text-decoration-color: #00af00\">50</span>, <span style=\"color: #00af00; text-decoration-color: #00af00\">32</span>)     │             <span style=\"color: #00af00; text-decoration-color: #00af00\">0</span> │\n",
       "├─────────────────────────────────┼────────────────────────┼───────────────┤\n",
       "│ conv2d_1 (<span style=\"color: #0087ff; text-decoration-color: #0087ff\">Conv2D</span>)               │ (<span style=\"color: #00d7ff; text-decoration-color: #00d7ff\">None</span>, <span style=\"color: #00af00; text-decoration-color: #00af00\">50</span>, <span style=\"color: #00af00; text-decoration-color: #00af00\">50</span>, <span style=\"color: #00af00; text-decoration-color: #00af00\">64</span>)     │        <span style=\"color: #00af00; text-decoration-color: #00af00\">18,496</span> │\n",
       "├─────────────────────────────────┼────────────────────────┼───────────────┤\n",
       "│ max_pooling2d_1 (<span style=\"color: #0087ff; text-decoration-color: #0087ff\">MaxPooling2D</span>)  │ (<span style=\"color: #00d7ff; text-decoration-color: #00d7ff\">None</span>, <span style=\"color: #00af00; text-decoration-color: #00af00\">25</span>, <span style=\"color: #00af00; text-decoration-color: #00af00\">25</span>, <span style=\"color: #00af00; text-decoration-color: #00af00\">64</span>)     │             <span style=\"color: #00af00; text-decoration-color: #00af00\">0</span> │\n",
       "├─────────────────────────────────┼────────────────────────┼───────────────┤\n",
       "│ flatten (<span style=\"color: #0087ff; text-decoration-color: #0087ff\">Flatten</span>)               │ (<span style=\"color: #00d7ff; text-decoration-color: #00d7ff\">None</span>, <span style=\"color: #00af00; text-decoration-color: #00af00\">40000</span>)          │             <span style=\"color: #00af00; text-decoration-color: #00af00\">0</span> │\n",
       "├─────────────────────────────────┼────────────────────────┼───────────────┤\n",
       "│ dense (<span style=\"color: #0087ff; text-decoration-color: #0087ff\">Dense</span>)                   │ (<span style=\"color: #00d7ff; text-decoration-color: #00d7ff\">None</span>, <span style=\"color: #00af00; text-decoration-color: #00af00\">128</span>)            │     <span style=\"color: #00af00; text-decoration-color: #00af00\">5,120,128</span> │\n",
       "├─────────────────────────────────┼────────────────────────┼───────────────┤\n",
       "│ dropout (<span style=\"color: #0087ff; text-decoration-color: #0087ff\">Dropout</span>)               │ (<span style=\"color: #00d7ff; text-decoration-color: #00d7ff\">None</span>, <span style=\"color: #00af00; text-decoration-color: #00af00\">128</span>)            │             <span style=\"color: #00af00; text-decoration-color: #00af00\">0</span> │\n",
       "├─────────────────────────────────┼────────────────────────┼───────────────┤\n",
       "│ dense_1 (<span style=\"color: #0087ff; text-decoration-color: #0087ff\">Dense</span>)                 │ (<span style=\"color: #00d7ff; text-decoration-color: #00d7ff\">None</span>, <span style=\"color: #00af00; text-decoration-color: #00af00\">2</span>)              │           <span style=\"color: #00af00; text-decoration-color: #00af00\">258</span> │\n",
       "└─────────────────────────────────┴────────────────────────┴───────────────┘\n",
       "</pre>\n"
      ],
      "text/plain": [
       "┏━━━━━━━━━━━━━━━━━━━━━━━━━━━━━━━━━┳━━━━━━━━━━━━━━━━━━━━━━━━┳━━━━━━━━━━━━━━━┓\n",
       "┃\u001b[1m \u001b[0m\u001b[1mLayer (type)                   \u001b[0m\u001b[1m \u001b[0m┃\u001b[1m \u001b[0m\u001b[1mOutput Shape          \u001b[0m\u001b[1m \u001b[0m┃\u001b[1m \u001b[0m\u001b[1m      Param #\u001b[0m\u001b[1m \u001b[0m┃\n",
       "┡━━━━━━━━━━━━━━━━━━━━━━━━━━━━━━━━━╇━━━━━━━━━━━━━━━━━━━━━━━━╇━━━━━━━━━━━━━━━┩\n",
       "│ conv2d (\u001b[38;5;33mConv2D\u001b[0m)                 │ (\u001b[38;5;45mNone\u001b[0m, \u001b[38;5;34m100\u001b[0m, \u001b[38;5;34m100\u001b[0m, \u001b[38;5;34m32\u001b[0m)   │           \u001b[38;5;34m896\u001b[0m │\n",
       "├─────────────────────────────────┼────────────────────────┼───────────────┤\n",
       "│ max_pooling2d (\u001b[38;5;33mMaxPooling2D\u001b[0m)    │ (\u001b[38;5;45mNone\u001b[0m, \u001b[38;5;34m50\u001b[0m, \u001b[38;5;34m50\u001b[0m, \u001b[38;5;34m32\u001b[0m)     │             \u001b[38;5;34m0\u001b[0m │\n",
       "├─────────────────────────────────┼────────────────────────┼───────────────┤\n",
       "│ conv2d_1 (\u001b[38;5;33mConv2D\u001b[0m)               │ (\u001b[38;5;45mNone\u001b[0m, \u001b[38;5;34m50\u001b[0m, \u001b[38;5;34m50\u001b[0m, \u001b[38;5;34m64\u001b[0m)     │        \u001b[38;5;34m18,496\u001b[0m │\n",
       "├─────────────────────────────────┼────────────────────────┼───────────────┤\n",
       "│ max_pooling2d_1 (\u001b[38;5;33mMaxPooling2D\u001b[0m)  │ (\u001b[38;5;45mNone\u001b[0m, \u001b[38;5;34m25\u001b[0m, \u001b[38;5;34m25\u001b[0m, \u001b[38;5;34m64\u001b[0m)     │             \u001b[38;5;34m0\u001b[0m │\n",
       "├─────────────────────────────────┼────────────────────────┼───────────────┤\n",
       "│ flatten (\u001b[38;5;33mFlatten\u001b[0m)               │ (\u001b[38;5;45mNone\u001b[0m, \u001b[38;5;34m40000\u001b[0m)          │             \u001b[38;5;34m0\u001b[0m │\n",
       "├─────────────────────────────────┼────────────────────────┼───────────────┤\n",
       "│ dense (\u001b[38;5;33mDense\u001b[0m)                   │ (\u001b[38;5;45mNone\u001b[0m, \u001b[38;5;34m128\u001b[0m)            │     \u001b[38;5;34m5,120,128\u001b[0m │\n",
       "├─────────────────────────────────┼────────────────────────┼───────────────┤\n",
       "│ dropout (\u001b[38;5;33mDropout\u001b[0m)               │ (\u001b[38;5;45mNone\u001b[0m, \u001b[38;5;34m128\u001b[0m)            │             \u001b[38;5;34m0\u001b[0m │\n",
       "├─────────────────────────────────┼────────────────────────┼───────────────┤\n",
       "│ dense_1 (\u001b[38;5;33mDense\u001b[0m)                 │ (\u001b[38;5;45mNone\u001b[0m, \u001b[38;5;34m2\u001b[0m)              │           \u001b[38;5;34m258\u001b[0m │\n",
       "└─────────────────────────────────┴────────────────────────┴───────────────┘\n"
      ]
     },
     "metadata": {},
     "output_type": "display_data"
    },
    {
     "data": {
      "text/html": [
       "<pre style=\"white-space:pre;overflow-x:auto;line-height:normal;font-family:Menlo,'DejaVu Sans Mono',consolas,'Courier New',monospace\"><span style=\"font-weight: bold\"> Total params: </span><span style=\"color: #00af00; text-decoration-color: #00af00\">5,139,778</span> (19.61 MB)\n",
       "</pre>\n"
      ],
      "text/plain": [
       "\u001b[1m Total params: \u001b[0m\u001b[38;5;34m5,139,778\u001b[0m (19.61 MB)\n"
      ]
     },
     "metadata": {},
     "output_type": "display_data"
    },
    {
     "data": {
      "text/html": [
       "<pre style=\"white-space:pre;overflow-x:auto;line-height:normal;font-family:Menlo,'DejaVu Sans Mono',consolas,'Courier New',monospace\"><span style=\"font-weight: bold\"> Trainable params: </span><span style=\"color: #00af00; text-decoration-color: #00af00\">5,139,778</span> (19.61 MB)\n",
       "</pre>\n"
      ],
      "text/plain": [
       "\u001b[1m Trainable params: \u001b[0m\u001b[38;5;34m5,139,778\u001b[0m (19.61 MB)\n"
      ]
     },
     "metadata": {},
     "output_type": "display_data"
    },
    {
     "data": {
      "text/html": [
       "<pre style=\"white-space:pre;overflow-x:auto;line-height:normal;font-family:Menlo,'DejaVu Sans Mono',consolas,'Courier New',monospace\"><span style=\"font-weight: bold\"> Non-trainable params: </span><span style=\"color: #00af00; text-decoration-color: #00af00\">0</span> (0.00 B)\n",
       "</pre>\n"
      ],
      "text/plain": [
       "\u001b[1m Non-trainable params: \u001b[0m\u001b[38;5;34m0\u001b[0m (0.00 B)\n"
      ]
     },
     "metadata": {},
     "output_type": "display_data"
    }
   ],
   "source": [
    "from tensorflow.keras import layers, models, callbacks\n",
    "import matplotlib.pyplot as plt\n",
    "\n",
    "# --- Output directories ---\n",
    "MODEL_DIR = ARTIFACTS_DIR / \"v1\" / \"models\"\n",
    "MODEL_DIR.mkdir(parents=True, exist_ok=True)\n",
    "\n",
    "PLOTS_V3_DIR = PLOTS_DIR.parent / \"v3\"\n",
    "PLOTS_V3_DIR.mkdir(parents=True, exist_ok=True)\n",
    "\n",
    "# --- Model definition ---\n",
    "def build_baseline_cnn(input_shape=(100, 100, 3), num_classes=2):\n",
    "    \"\"\"Simple baseline CNN: 2 conv blocks + dense head.\"\"\"\n",
    "    model = models.Sequential([\n",
    "        layers.Input(shape=input_shape),\n",
    "\n",
    "        layers.Conv2D(32, (3, 3), activation=\"relu\", padding=\"same\"),\n",
    "        layers.MaxPooling2D(2),\n",
    "\n",
    "        layers.Conv2D(64, (3, 3), activation=\"relu\", padding=\"same\"),\n",
    "        layers.MaxPooling2D(2),\n",
    "\n",
    "        layers.Flatten(),\n",
    "        layers.Dense(128, activation=\"relu\"),\n",
    "        layers.Dropout(0.3),\n",
    "        layers.Dense(num_classes, activation=\"softmax\")\n",
    "    ])\n",
    "    model.compile(\n",
    "        optimizer=\"adam\",\n",
    "        loss=\"sparse_categorical_crossentropy\",\n",
    "        metrics=[\"accuracy\"]\n",
    "    )\n",
    "    return model\n",
    "\n",
    "model = build_baseline_cnn(input_shape=(*IMG_SIZE, 3), num_classes=len(label_to_index))\n",
    "model.summary()"
   ]
  },
  {
   "cell_type": "markdown",
   "id": "8b32a7c4",
   "metadata": {},
   "source": [
    "### Model Training and Callbacks\n",
    "\n",
    "Training uses 20 epochs with two standard callbacks:\n",
    "- **EarlyStopping:** prevents overfitting by halting when validation loss stops improving.\n",
    "- **ModelCheckpoint:** saves the best-performing model to `artifacts/v1/models/`.\n",
    "\n",
    "Validation performance is monitored on `val_ds`, and all results are reproducible due to fixed seeds."
   ]
  },
  {
   "cell_type": "code",
   "execution_count": 27,
   "id": "417b50c5",
   "metadata": {},
   "outputs": [
    {
     "name": "stdout",
     "output_type": "stream",
     "text": [
      "Epoch 1/20\n",
      "\n",
      "Epoch 1: val_accuracy improved from None to 0.97781, saving model to C:\\Users\\ksstr\\Documents\\Coding\\milestone-project-5\\artifacts\\v1\\models\\cnn_v1_best.keras\n",
      "92/92 - 5s - 50ms/step - accuracy: 0.8404 - loss: 0.3513 - val_accuracy: 0.9778 - val_loss: 0.0652\n",
      "Epoch 2/20\n",
      "\n",
      "Epoch 2: val_accuracy improved from 0.97781 to 0.99842, saving model to C:\\Users\\ksstr\\Documents\\Coding\\milestone-project-5\\artifacts\\v1\\models\\cnn_v1_best.keras\n",
      "92/92 - 4s - 41ms/step - accuracy: 0.9851 - loss: 0.0468 - val_accuracy: 0.9984 - val_loss: 0.0237\n",
      "Epoch 3/20\n",
      "\n",
      "Epoch 3: val_accuracy did not improve from 0.99842\n",
      "92/92 - 4s - 39ms/step - accuracy: 0.9990 - loss: 0.0077 - val_accuracy: 0.9984 - val_loss: 0.0074\n",
      "Epoch 4/20\n",
      "\n",
      "Epoch 4: val_accuracy did not improve from 0.99842\n",
      "92/92 - 4s - 39ms/step - accuracy: 0.9993 - loss: 0.0033 - val_accuracy: 0.9968 - val_loss: 0.0077\n",
      "Epoch 5/20\n",
      "\n",
      "Epoch 5: val_accuracy did not improve from 0.99842\n",
      "92/92 - 3s - 38ms/step - accuracy: 0.9997 - loss: 0.0035 - val_accuracy: 0.9984 - val_loss: 0.0068\n",
      "Epoch 6/20\n",
      "\n",
      "Epoch 6: val_accuracy did not improve from 0.99842\n",
      "92/92 - 3s - 38ms/step - accuracy: 0.9990 - loss: 0.0028 - val_accuracy: 0.9921 - val_loss: 0.0158\n",
      "Epoch 7/20\n",
      "\n",
      "Epoch 7: val_accuracy did not improve from 0.99842\n",
      "92/92 - 3s - 37ms/step - accuracy: 1.0000 - loss: 0.0015 - val_accuracy: 0.9984 - val_loss: 0.0090\n",
      "Epoch 8/20\n",
      "\n",
      "Epoch 8: val_accuracy did not improve from 0.99842\n",
      "92/92 - 3s - 38ms/step - accuracy: 1.0000 - loss: 1.7480e-04 - val_accuracy: 0.9984 - val_loss: 0.0065\n",
      "Epoch 9/20\n",
      "\n",
      "Epoch 9: val_accuracy did not improve from 0.99842\n",
      "92/92 - 3s - 37ms/step - accuracy: 1.0000 - loss: 1.4341e-04 - val_accuracy: 0.9984 - val_loss: 0.0086\n",
      "Epoch 10/20\n",
      "\n",
      "Epoch 10: val_accuracy did not improve from 0.99842\n",
      "92/92 - 3s - 37ms/step - accuracy: 1.0000 - loss: 1.0078e-04 - val_accuracy: 0.9984 - val_loss: 0.0065\n",
      "Epoch 11/20\n",
      "\n",
      "Epoch 11: val_accuracy did not improve from 0.99842\n",
      "92/92 - 3s - 36ms/step - accuracy: 0.9997 - loss: 0.0012 - val_accuracy: 0.9984 - val_loss: 0.0081\n",
      "Epoch 12/20\n",
      "\n",
      "Epoch 12: val_accuracy did not improve from 0.99842\n",
      "92/92 - 3s - 36ms/step - accuracy: 0.9613 - loss: 0.1164 - val_accuracy: 0.9968 - val_loss: 0.0403\n",
      "Epoch 13/20\n",
      "\n",
      "Epoch 13: val_accuracy did not improve from 0.99842\n",
      "92/92 - 3s - 36ms/step - accuracy: 0.9959 - loss: 0.0147 - val_accuracy: 0.9984 - val_loss: 0.0118\n"
     ]
    }
   ],
   "source": [
    "EPOCHS = 20\n",
    "\n",
    "cb_earlystop = callbacks.EarlyStopping(\n",
    "    monitor=\"val_loss\",\n",
    "    patience=3,\n",
    "    restore_best_weights=True\n",
    ")\n",
    "\n",
    "cb_checkpoint = callbacks.ModelCheckpoint(\n",
    "    filepath=str(MODEL_DIR / \"cnn_v1_best.keras\"),\n",
    "    monitor=\"val_accuracy\",\n",
    "    save_best_only=True,\n",
    "    verbose=1\n",
    ")\n",
    "\n",
    "history = model.fit(\n",
    "    train_ds,\n",
    "    validation_data=val_ds,\n",
    "    epochs=EPOCHS,\n",
    "    callbacks=[cb_earlystop, cb_checkpoint],\n",
    "    verbose=2\n",
    ")"
   ]
  },
  {
   "cell_type": "markdown",
   "id": "7b467335",
   "metadata": {},
   "source": [
    "### Training History Visualization\n",
    "\n",
    "The model’s learning progress is visualized via loss and accuracy curves.\n",
    "Both plots are saved to `plots/v3/` for documentation and dashboard integration.\n",
    "This enables later comparison between CNN versions (v1 vs v2)."
   ]
  },
  {
   "cell_type": "code",
   "execution_count": 28,
   "id": "8a298040",
   "metadata": {},
   "outputs": [
    {
     "name": "stdout",
     "output_type": "stream",
     "text": [
      "Saved training history: C:\\Users\\ksstr\\Documents\\Coding\\milestone-project-5\\artifacts\\v1\\models\\cnn_v1_history.csv\n"
     ]
    },
    {
     "data": {
      "image/png": "[encoded data removed]",
      "text/plain": [
       "<Figure size 1000x400 with 2 Axes>"
      ]
     },
     "metadata": {},
     "output_type": "display_data"
    },
    {
     "name": "stdout",
     "output_type": "stream",
     "text": [
      "Saved: C:\\Users\\ksstr\\Documents\\Coding\\milestone-project-5\\plots\\v3\\training_curves_v1.png\n"
     ]
    }
   ],
   "source": [
    "hist_df = pd.DataFrame(history.history)\n",
    "hist_path = MODEL_DIR / \"cnn_v1_history.csv\"\n",
    "hist_df.to_csv(hist_path, index=False)\n",
    "print(\"Saved training history:\", hist_path.resolve())\n",
    "\n",
    "# Plot curves\n",
    "fig, ax = plt.subplots(1, 2, figsize=(10, 4))\n",
    "ax[0].plot(history.history[\"loss\"], label=\"train\")\n",
    "ax[0].plot(history.history[\"val_loss\"], label=\"val\")\n",
    "ax[0].set_title(\"Loss\")\n",
    "ax[0].legend()\n",
    "\n",
    "ax[1].plot(history.history[\"accuracy\"], label=\"train\")\n",
    "ax[1].plot(history.history[\"val_accuracy\"], label=\"val\")\n",
    "ax[1].set_title(\"Accuracy\")\n",
    "ax[1].legend()\n",
    "\n",
    "out_plot = PLOTS_V3_DIR / \"training_curves_v1.png\"\n",
    "fig.savefig(out_plot, bbox_inches=\"tight\", dpi=150)\n",
    "plt.show()\n",
    "plt.close(fig)\n",
    "print(\"Saved:\", out_plot.resolve())"
   ]
  },
  {
   "cell_type": "markdown",
   "id": "81be5f3c",
   "metadata": {},
   "source": [
    "### Final Test Evaluation — CNN v1\n",
    "\n",
    "After completing training and validation, the final model is evaluated on the **unseen test set**.\n",
    "This step confirms whether Business Requirement 2 (BR2: ≥97 % accuracy) has been achieved.\n",
    "\n",
    "Evaluation includes:\n",
    "- Test accuracy and loss\n",
    "- Confusion matrix visualization\n",
    "- Classification report with precision, recall, and F1-score"
   ]
  },
  {
   "cell_type": "code",
   "execution_count": 29,
   "id": "7f5c4fea",
   "metadata": {},
   "outputs": [
    {
     "name": "stdout",
     "output_type": "stream",
     "text": [
      "Test metrics → accuracy: 0.9984 | loss: 0.0039\n"
     ]
    },
    {
     "data": {
      "image/png": "[encoded data removed]",
      "text/plain": [
       "<Figure size 450x400 with 2 Axes>"
      ]
     },
     "metadata": {},
     "output_type": "display_data"
    },
    {
     "name": "stdout",
     "output_type": "stream",
     "text": [
      "Saved: C:\\Users\\ksstr\\Documents\\Coding\\milestone-project-5\\plots\\v3\\confusion_matrix_test_v1.png\n",
      "                precision    recall  f1-score   support\n",
      "\n",
      "       healthy     1.0000    0.9968    0.9984       316\n",
      "powdery_mildew     0.9968    1.0000    0.9984       316\n",
      "\n",
      "      accuracy                         0.9984       632\n",
      "     macro avg     0.9984    0.9984    0.9984       632\n",
      "  weighted avg     0.9984    0.9984    0.9984       632\n",
      "\n",
      "BR2 target (≥97% accuracy) met on test set? → True\n"
     ]
    }
   ],
   "source": [
    "from sklearn.metrics import confusion_matrix, classification_report\n",
    "\n",
    "# --- 1) Test metrics ---\n",
    "test_loss, test_acc = model.evaluate(test_ds, verbose=0)\n",
    "print(f\"Test metrics → accuracy: {test_acc:.4f} | loss: {test_loss:.4f}\")\n",
    "\n",
    "# --- 2) Predictions for confusion matrix ---\n",
    "y_true, y_pred = [], []\n",
    "for xb, yb in test_ds:\n",
    "    probs = model.predict(xb, verbose=0)\n",
    "    y_true.extend(yb.numpy().tolist())\n",
    "    y_pred.extend(np.argmax(probs, axis=1).tolist())\n",
    "\n",
    "y_true, y_pred = np.array(y_true), np.array(y_pred)\n",
    "\n",
    "# --- 3) Confusion matrix ---\n",
    "cm = confusion_matrix(y_true, y_pred)\n",
    "labels_sorted = sorted(df_train[\"label\"].unique().tolist())\n",
    "\n",
    "fig, ax = plt.subplots(figsize=(4.5, 4))\n",
    "im = ax.imshow(cm, cmap=\"Blues\")\n",
    "ax.set_title(\"Confusion Matrix — Test Set\")\n",
    "ax.set_xlabel(\"Predicted\")\n",
    "ax.set_ylabel(\"True\")\n",
    "ax.set_xticks(range(len(labels_sorted)))\n",
    "ax.set_yticks(range(len(labels_sorted)))\n",
    "ax.set_xticklabels(labels_sorted, rotation=45, ha=\"right\")\n",
    "ax.set_yticklabels(labels_sorted)\n",
    "\n",
    "for (i, j), v in np.ndenumerate(cm):\n",
    "    ax.text(j, i, str(v), ha=\"center\", va=\"center\")\n",
    "\n",
    "fig.colorbar(im, ax=ax, fraction=0.046, pad=0.04)\n",
    "\n",
    "PLOTS_V3_DIR.mkdir(parents=True, exist_ok=True)\n",
    "cm_path = PLOTS_V3_DIR / \"confusion_matrix_test_v1.png\"\n",
    "fig.savefig(cm_path, bbox_inches=\"tight\", dpi=150)\n",
    "plt.show()\n",
    "plt.close(fig)\n",
    "print(\"Saved:\", cm_path.resolve())\n",
    "\n",
    "# --- 4) Classification report ---\n",
    "report = classification_report(y_true, y_pred, target_names=labels_sorted, digits=4)\n",
    "print(report)\n",
    "\n",
    "rep_dir = ARTIFACTS_DIR / \"v1\" / \"reports\"\n",
    "rep_dir.mkdir(parents=True, exist_ok=True)\n",
    "with open(rep_dir / \"classification_report_test_v1.txt\", \"w\", encoding=\"utf-8\") as f:\n",
    "    f.write(f\"Test accuracy: {test_acc:.4f}\\nTest loss: {test_loss:.4f}\\n\\n\")\n",
    "    f.write(report)\n",
    "\n",
    "# --- 5) Meets / Not meets statement ---\n",
    "meets = test_acc >= 0.97\n",
    "print(f\"BR2 target (≥97% accuracy) met on test set? → {meets}\")"
   ]
  },
  {
   "cell_type": "markdown",
   "id": "053b069f",
   "metadata": {},
   "source": [
    "## Conclusions — Model v1\n",
    "\n",
    "The baseline CNN (v1) achieved **test accuracy above 97 %**, satisfying **Business Requirement 2 (BR2)**.  \n",
    "Both training and validation results indicate a well-generalized model without overfitting.\n",
    "\n",
    "The confusion matrix confirms robust performance across both classes.  \n",
    "This model establishes the baseline for Hypothesis 2 and 3 validation (input size and augmentation)."
   ]
  },
  {
   "cell_type": "code",
   "execution_count": null,
   "id": "56e8ee3c",
   "metadata": {},
   "outputs": [
    {
     "name": "stdout",
     "output_type": "stream",
     "text": [
      "Saved evaluation summary: C:\\Users\\ksstr\\Documents\\Coding\\milestone-project-5\\artifacts\\v1\\reports\\evaluation_report.json\n"
     ]
    },
    {
     "data": {
      "text/plain": [
       "{'model_version': 'v1',\n",
       " 'test_accuracy': 0.9984177350997925,\n",
       " 'test_loss': 0.0038696513511240482,\n",
       " 'meets_target': True,\n",
       " 'total_samples': 632}"
      ]
     },
     "execution_count": 31,
     "metadata": {},
     "output_type": "execute_result"
    }
   ],
   "source": [
    "### Save Evaluation Report for Dashboard Integration\n",
    "\n",
    "import json\n",
    "\n",
    "REPORTS_DIR = ARTIFACTS_DIR / \"v1\" / \"reports\"\n",
    "REPORTS_DIR.mkdir(parents=True, exist_ok=True)\n",
    "\n",
    "report = {\n",
    "    \"model_version\": \"v1\",\n",
    "    \"test_accuracy\": float(test_acc),\n",
    "    \"test_loss\": float(test_loss),\n",
    "    \"meets_target\": bool(test_acc >= 0.97),\n",
    "    \"total_samples\": int(len(df_test)),\n",
    "}\n",
    "\n",
    "out_report = REPORTS_DIR / \"evaluation_report.json\"\n",
    "with open(out_report, \"w\") as f:\n",
    "    json.dump(report, f, indent=2)\n",
    "\n",
    "print(\"Saved evaluation summary:\", out_report.resolve())\n",
    "report"
   ]
  },
  {
   "cell_type": "markdown",
   "id": "4328219a",
   "metadata": {},
   "source": [
    "### Evaluation Summary Export\n",
    "\n",
    "The final evaluation metrics are exported as `evaluation_report.json` under  \n",
    "`artifacts/v1/reports/`.  \n",
    "\n",
    "This report contains the model version, accuracy, and target compliance flag  \n",
    "and will be used later by the dashboard’s *Technical Page* for automatic metric display."
   ]
  }
 ],
 "metadata": {
  "kernelspec": {
   "display_name": ".venv",
   "language": "python",
   "name": "python3"
  },
  "language_info": {
   "codemirror_mode": {
    "name": "ipython",
    "version": 3
   },
   "file_extension": ".py",
   "mimetype": "text/x-python",
   "name": "python",
   "nbconvert_exporter": "python",
   "pygments_lexer": "ipython3",
   "version": "3.12.1"
  }
 },
 "nbformat": 4,
 "nbformat_minor": 5
}
