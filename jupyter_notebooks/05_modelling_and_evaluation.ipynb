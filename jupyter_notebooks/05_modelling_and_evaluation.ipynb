{
 "cells": [
  {
   "cell_type": "markdown",
   "id": "f7120052",
   "metadata": {},
   "source": [
    "# 05 — Modelling & Evaluation (CNN)\n",
    "\n",
    "**Objective**  \n",
    "Train and evaluate a baseline CNN to predict powdery mildew from cherry leaf images.\n",
    "\n",
    "**Inputs**  \n",
    "- Split manifests: `inputs/manifests/v1/{train,val,test}.csv`\n",
    "- Images: `inputs/cherry_leaves_dataset/{healthy,powdery_mildew}`\n",
    "\n",
    "**Outputs (planned)**  \n",
    "- Trained model artifacts under `artifacts/v1/models/`\n",
    "- Training history & evaluation plots under `plots/v3/`\n",
    "- Metrics report under `artifacts/v1/reports/`\n",
    "\n",
    "**Notes**  \n",
    "Images will be resized to a fixed input size and normalized. Early stopping and model checkpointing will be used."
   ]
  },
  {
   "cell_type": "code",
   "execution_count": 14,
   "id": "48584bab",
   "metadata": {},
   "outputs": [
    {
     "name": "stdout",
     "output_type": "stream",
     "text": [
      "PROJECT_ROOT: C:\\Users\\ksstr\\Documents\\Coding\\milestone-project-5\n",
      "DATA_DIR: C:\\Users\\ksstr\\Documents\\Coding\\milestone-project-5\\inputs\\cherry_leaves_dataset\n",
      "MANIFESTS_DIR: C:\\Users\\ksstr\\Documents\\Coding\\milestone-project-5\\inputs\\manifests\\v1\n",
      "PLOTS_DIR: C:\\Users\\ksstr\\Documents\\Coding\\milestone-project-5\\plots\\v1\n",
      "ARTIFACTS_DIR: C:\\Users\\ksstr\\Documents\\Coding\\milestone-project-5\\artifacts\n"
     ]
    }
   ],
   "source": [
    "from pathlib import Path\n",
    "import sys\n",
    "\n",
    "def find_project_root(start: Path) -> Path:\n",
    "    \"\"\"Walk up until a folder containing 'src' is found, else return start.\"\"\"\n",
    "    p = start\n",
    "    for _ in range(5):\n",
    "        if (p / \"src\").exists():\n",
    "            return p\n",
    "        p = p.parent\n",
    "    return start\n",
    "\n",
    "PROJECT_ROOT = find_project_root(Path.cwd())\n",
    "if str(PROJECT_ROOT) not in sys.path:\n",
    "    sys.path.insert(0, str(PROJECT_ROOT))\n",
    "\n",
    "from src.paths import PROJECT_ROOT, DATA_DIR, MANIFESTS_DIR, PLOTS_DIR, ARTIFACTS_DIR\n",
    "\n",
    "print(\"PROJECT_ROOT:\", PROJECT_ROOT)\n",
    "print(\"DATA_DIR:\", DATA_DIR)\n",
    "print(\"MANIFESTS_DIR:\", MANIFESTS_DIR)\n",
    "print(\"PLOTS_DIR:\", PLOTS_DIR)\n",
    "print(\"ARTIFACTS_DIR:\", ARTIFACTS_DIR)"
   ]
  },
  {
   "cell_type": "code",
   "execution_count": 15,
   "id": "67009004",
   "metadata": {},
   "outputs": [
    {
     "name": "stdout",
     "output_type": "stream",
     "text": [
      "Config → IMG_SIZE: (100, 100) | BATCH_SIZE: 32 | SEED: 42\n"
     ]
    }
   ],
   "source": [
    "# Modelling configuration\n",
    "IMG_SIZE = (100, 100)   # (width, height)\n",
    "BATCH_SIZE = 32\n",
    "SEED = 42\n",
    "\n",
    "print(\"Config → IMG_SIZE:\", IMG_SIZE, \"| BATCH_SIZE:\", BATCH_SIZE, \"| SEED:\", SEED)"
   ]
  },
  {
   "cell_type": "code",
   "execution_count": 16,
   "id": "b4c3b7cd",
   "metadata": {},
   "outputs": [
    {
     "name": "stdout",
     "output_type": "stream",
     "text": [
      "train n=2945\n",
      "label\n",
      "powdery_mildew    0.5\n",
      "healthy           0.5\n",
      "Name: proportion, dtype: float64 \n",
      "\n",
      "  val n=631\n",
      "label\n",
      "healthy           0.501\n",
      "powdery_mildew    0.499\n",
      "Name: proportion, dtype: float64 \n",
      "\n",
      " test n=632\n",
      "label\n",
      "powdery_mildew    0.5\n",
      "healthy           0.5\n",
      "Name: proportion, dtype: float64 \n",
      "\n"
     ]
    },
    {
     "data": {
      "text/html": [
       "<div>\n",
       "<style scoped>\n",
       "    .dataframe tbody tr th:only-of-type {\n",
       "        vertical-align: middle;\n",
       "    }\n",
       "\n",
       "    .dataframe tbody tr th {\n",
       "        vertical-align: top;\n",
       "    }\n",
       "\n",
       "    .dataframe thead th {\n",
       "        text-align: right;\n",
       "    }\n",
       "</style>\n",
       "<table border=\"1\" class=\"dataframe\">\n",
       "  <thead>\n",
       "    <tr style=\"text-align: right;\">\n",
       "      <th></th>\n",
       "      <th>filepath</th>\n",
       "      <th>label</th>\n",
       "    </tr>\n",
       "  </thead>\n",
       "  <tbody>\n",
       "    <tr>\n",
       "      <th>0</th>\n",
       "      <td>C:\\Users\\ksstr\\Documents\\Coding\\milestone-proj...</td>\n",
       "      <td>healthy</td>\n",
       "    </tr>\n",
       "    <tr>\n",
       "      <th>1</th>\n",
       "      <td>C:\\Users\\ksstr\\Documents\\Coding\\milestone-proj...</td>\n",
       "      <td>powdery_mildew</td>\n",
       "    </tr>\n",
       "    <tr>\n",
       "      <th>2</th>\n",
       "      <td>C:\\Users\\ksstr\\Documents\\Coding\\milestone-proj...</td>\n",
       "      <td>healthy</td>\n",
       "    </tr>\n",
       "  </tbody>\n",
       "</table>\n",
       "</div>"
      ],
      "text/plain": [
       "                                            filepath           label\n",
       "0  C:\\Users\\ksstr\\Documents\\Coding\\milestone-proj...         healthy\n",
       "1  C:\\Users\\ksstr\\Documents\\Coding\\milestone-proj...  powdery_mildew\n",
       "2  C:\\Users\\ksstr\\Documents\\Coding\\milestone-proj...         healthy"
      ]
     },
     "metadata": {},
     "output_type": "display_data"
    }
   ],
   "source": [
    "import pandas as pd\n",
    "\n",
    "paths = {\n",
    "    \"train\": MANIFESTS_DIR / \"train.csv\",\n",
    "    \"val\":   MANIFESTS_DIR / \"val.csv\",\n",
    "    \"test\":  MANIFESTS_DIR / \"test.csv\",\n",
    "}\n",
    "\n",
    "for name, p in paths.items():\n",
    "    assert p.exists(), f\"Missing manifest: {p}\"\n",
    "\n",
    "df_train = pd.read_csv(paths[\"train\"])\n",
    "df_val   = pd.read_csv(paths[\"val\"])\n",
    "df_test  = pd.read_csv(paths[\"test\"])\n",
    "\n",
    "for name, df in [(\"train\", df_train), (\"val\", df_val), (\"test\", df_test)]:\n",
    "    print(f\"{name:>5} n={len(df)}\")\n",
    "    vc = df[\"label\"].value_counts(normalize=True).rename(\"proportion\").round(3)\n",
    "    print(vc, \"\\n\")\n",
    "\n",
    "display(df_train.head(3))"
   ]
  },
  {
   "cell_type": "markdown",
   "id": "c008f79f",
   "metadata": {},
   "source": [
    "### Pre-flight checks\n",
    "\n",
    "- Split manifests found and loaded successfully.\n",
    "- Class proportions are approximately balanced across train/val/test.\n",
    "- Next step: implement a TensorFlow `tf.data` pipeline (decode → resize → normalize → batch → prefetch) using these manifests."
   ]
  },
  {
   "cell_type": "code",
   "execution_count": 17,
   "id": "1d797121",
   "metadata": {},
   "outputs": [
    {
     "name": "stdout",
     "output_type": "stream",
     "text": [
      "Label map (in-memory): {'healthy': 0, 'powdery_mildew': 1}\n"
     ]
    }
   ],
   "source": [
    "import tensorflow as tf\n",
    "import numpy as np \n",
    "\n",
    "# Ensure reproducibility\n",
    "SEED = 42\n",
    "tf.random.set_seed(SEED)\n",
    "np.random.seed(SEED)\n",
    "\n",
    "AUTOTUNE = tf.data.AUTOTUNE\n",
    "\n",
    "# Stable label index from train manifest (sorted → reproducible)\n",
    "labels_sorted = sorted(df_train[\"label\"].unique().tolist())\n",
    "label_to_index = {lbl: i for i, lbl in enumerate(labels_sorted)}\n",
    "index_to_label = {i: lbl for lbl, i in label_to_index.items()}\n",
    "\n",
    "print(\"Label map (in-memory):\", label_to_index)"
   ]
  },
  {
   "cell_type": "code",
   "execution_count": 18,
   "id": "ac0794df",
   "metadata": {},
   "outputs": [],
   "source": [
    "def decode_and_resize(img_bytes, img_size=(100, 100)):\n",
    "    \"\"\"Decode JPEG/PNG, force 3 channels, resize, and return float32 in [0,1].\"\"\"\n",
    "    img = tf.io.decode_image(img_bytes, channels=3, expand_animations=False)\n",
    "    img.set_shape([None, None, 3])  # static rank for TF graph\n",
    "    img = tf.image.resize(img, img_size, method=tf.image.ResizeMethod.BILINEAR)\n",
    "    img = tf.cast(img, tf.float32) / 255.0\n",
    "    return img\n",
    "\n",
    "def load_example(path, label, img_size=(100, 100)):\n",
    "    \"\"\"Read file, decode, resize, normalize; return (image, int_label).\"\"\"\n",
    "    bytes_ = tf.io.read_file(path)\n",
    "    img = decode_and_resize(bytes_, img_size)\n",
    "    return img, label\n",
    "\n",
    "def make_dataset(manifest_df, img_size=(100, 100), batch_size=32, training=False, seed=42):\n",
    "    \"\"\"Build a performant tf.data pipeline from a manifest DataFrame.\"\"\"\n",
    "    paths = manifest_df[\"filepath\"].astype(str).values\n",
    "    labels = manifest_df[\"label\"].map(label_to_index).astype(\"int32\").values\n",
    "\n",
    "    ds = tf.data.Dataset.from_tensor_slices((paths, labels))\n",
    "    if training:\n",
    "        ds = ds.shuffle(buffer_size=len(manifest_df), seed=seed, reshuffle_each_iteration=True)\n",
    "\n",
    "    ds = ds.map(lambda p, y: load_example(p, y, img_size), num_parallel_calls=AUTOTUNE)\n",
    "    ds = ds.batch(batch_size, drop_remainder=training)  # fixed batch size during training\n",
    "    ds = ds.prefetch(AUTOTUNE)\n",
    "    return ds"
   ]
  },
  {
   "cell_type": "markdown",
   "id": "e6d4393c",
   "metadata": {},
   "source": [
    "### Functional Smoke Test — Input Pipeline Validation\n",
    "\n",
    "Quick functional smoke test is run to ensure the `tf.data` pipeline operates correctly.\n",
    "\n",
    "This test confirms that:\n",
    "- All file paths in the manifests are readable.\n",
    "- Images are properly decoded, resized to 100×100, and normalized to [0,1].\n",
    "- Labels are correctly mapped to their integer indices based on the stable label map.\n",
    "- Batch dimensions and value ranges are consistent with expectations.\n",
    "\n",
    "If this step passes without errors, the dataset is ready for model training."
   ]
  },
  {
   "cell_type": "code",
   "execution_count": 19,
   "id": "ac459a36",
   "metadata": {},
   "outputs": [
    {
     "name": "stdout",
     "output_type": "stream",
     "text": [
      "Train batch → (32, 100, 100, 3) (32,) | range: 0.0 → 1.0\n",
      "Labels sample (int): [0 0 1 1 1 0 1 0]\n",
      "Decoded labels sample: ['healthy', 'healthy', 'powdery_mildew', 'powdery_mildew', 'powdery_mildew', 'healthy', 'powdery_mildew', 'healthy']\n"
     ]
    }
   ],
   "source": [
    "# Build datasets\n",
    "train_ds = make_dataset(df_train, img_size=IMG_SIZE, batch_size=BATCH_SIZE, training=True,  seed=SEED)\n",
    "val_ds   = make_dataset(df_val,   img_size=IMG_SIZE, batch_size=BATCH_SIZE, training=False, seed=SEED)\n",
    "test_ds  = make_dataset(df_test,  img_size=IMG_SIZE, batch_size=BATCH_SIZE, training=False, seed=SEED)\n",
    "\n",
    "# Inspect one batch\n",
    "xb, yb = next(iter(train_ds))\n",
    "print(\"Train batch →\", xb.shape, yb.shape, \"| range:\", float(tf.reduce_min(xb)), \"→\", float(tf.reduce_max(xb)))\n",
    "print(\"Labels sample (int):\", yb[:8].numpy())\n",
    "print(\"Decoded labels sample:\", [index_to_label[int(i)] for i in yb[:8].numpy()])"
   ]
  },
  {
   "cell_type": "markdown",
   "id": "f87e17af",
   "metadata": {},
   "source": [
    "### Input pipeline checks\n",
    "\n",
    "- Manifests successfully converted to `tf.data` datasets.\n",
    "- Decoding, resizing to 100×100, and normalization to [0,1] verified on a sample batch.\n",
    "\n",
    "**Next:** define a compact baseline CNN (softmax), add EarlyStopping & ModelCheckpoint, and run v1 training."
   ]
  }
 ],
 "metadata": {
  "kernelspec": {
   "display_name": ".venv",
   "language": "python",
   "name": "python3"
  },
  "language_info": {
   "codemirror_mode": {
    "name": "ipython",
    "version": 3
   },
   "file_extension": ".py",
   "mimetype": "text/x-python",
   "name": "python",
   "nbconvert_exporter": "python",
   "pygments_lexer": "ipython3",
   "version": "3.12.1"
  }
 },
 "nbformat": 4,
 "nbformat_minor": 5
}
