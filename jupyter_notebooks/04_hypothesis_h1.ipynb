{
 "cells": [
  {
   "cell_type": "markdown",
   "id": "0ed44ea9",
   "metadata": {},
   "source": [
    "# 04 — Hypothesis H1: Texture & Color Variability (GLCM)\n",
    "\n",
    "**Objective**  \n",
    "Quantify texture differences between healthy and mildew-infected cherry leaves using GLCM features to test H1:\n",
    "> Mildew-infected leaves exhibit higher texture and color variability than healthy leaves.\n",
    "\n",
    "**Inputs**  \n",
    "- Image dataset: `inputs/cherry_leaves_dataset/{healthy, powdery_mildew}`\n",
    "\n",
    "**Outputs**  \n",
    "- CSV: `inputs/features/v1/glcm_features.csv` (per-image GLCM features)  \n",
    "- CSV: `inputs/features/v1/glcm_stats.csv` (p-values & effect sizes)  \n",
    "- CSV: `inputs/features/v1/glcm_feature_means.csv` (class-wise means/medians)  \n",
    "- Plot: `plots/v2/glcm_boxplots.png` (boxplots per feature by class)\n",
    "\n",
    "**Notes**  \n",
    "Images are resized to 100×100, converted to grayscale, quantized to fixed gray levels, and GLCM features are averaged across multiple distances and angles."
   ]
  },
  {
   "cell_type": "code",
   "execution_count": 1,
   "id": "18e9ca1a",
   "metadata": {},
   "outputs": [
    {
     "name": "stdout",
     "output_type": "stream",
     "text": [
      "PROJECT_ROOT: C:\\Users\\ksstr\\Documents\\Coding\\milestone-project-5\n",
      "DATA_DIR: C:\\Users\\ksstr\\Documents\\Coding\\milestone-project-5\\inputs\\cherry_leaves_dataset\n",
      "PLOTS_DIR: C:\\Users\\ksstr\\Documents\\Coding\\milestone-project-5\\plots\\v1\n"
     ]
    }
   ],
   "source": [
    "from pathlib import Path\n",
    "import sys\n",
    "\n",
    "def find_project_root(start: Path) -> Path:\n",
    "    \"\"\"Walk up until a folder containing 'src' is found, else return start.\"\"\"\n",
    "    p = start\n",
    "    for _ in range(5):\n",
    "        if (p / \"src\").exists():\n",
    "            return p\n",
    "        p = p.parent\n",
    "    return start\n",
    "\n",
    "PROJECT_ROOT = find_project_root(Path.cwd())\n",
    "if str(PROJECT_ROOT) not in sys.path:\n",
    "    sys.path.insert(0, str(PROJECT_ROOT))\n",
    "\n",
    "from src.paths import DATA_DIR, PLOTS_DIR, PROJECT_ROOT\n",
    "\n",
    "print(\"PROJECT_ROOT:\", PROJECT_ROOT)\n",
    "print(\"DATA_DIR:\", DATA_DIR)\n",
    "print(\"PLOTS_DIR:\", PLOTS_DIR)"
   ]
  },
  {
   "cell_type": "code",
   "execution_count": 2,
   "id": "cafd0769",
   "metadata": {},
   "outputs": [
    {
     "name": "stdout",
     "output_type": "stream",
     "text": [
      "FEATURES_DIR: C:\\Users\\ksstr\\Documents\\Coding\\milestone-project-5\\jupyter_notebooks\\inputs\\features\\v1\n",
      "PLOTS_V2_DIR: C:\\Users\\ksstr\\Documents\\Coding\\milestone-project-5\\plots\\v2\n"
     ]
    }
   ],
   "source": [
    "# Configuration and output directories\n",
    "from pathlib import Path\n",
    "\n",
    "CLASSES = (\"healthy\", \"powdery_mildew\")\n",
    "ALLOWED = {\".jpg\", \".jpeg\", \".png\", \".JPG\", \".JPEG\", \".PNG\"}\n",
    "\n",
    "IMG_SIZE = (100, 100)           # (width, height)\n",
    "GRAY_LEVELS = 32                # quantization levels for GLCM\n",
    "DISTANCES = [1, 2, 3]           # pixel distances\n",
    "ANGLES = [0, 0.25, 0.5, 0.75]   # angles in units of pi (0, π/4, π/2, 3π/4)\n",
    "FEATURES = [\"contrast\", \"energy\", \"homogeneity\", \"correlation\"]\n",
    "\n",
    "# Output locations\n",
    "FEATURES_DIR = Path(\"inputs\") / \"features\" / \"v1\"\n",
    "FEATURES_DIR.mkdir(parents=True, exist_ok=True)\n",
    "\n",
    "PLOTS_V2_DIR = PLOTS_DIR.parent / \"v2\"\n",
    "PLOTS_V2_DIR.mkdir(parents=True, exist_ok=True)\n",
    "\n",
    "print(\"FEATURES_DIR:\", FEATURES_DIR.resolve())\n",
    "print(\"PLOTS_V2_DIR:\", PLOTS_V2_DIR.resolve())"
   ]
  }
 ],
 "metadata": {
  "kernelspec": {
   "display_name": ".venv",
   "language": "python",
   "name": "python3"
  },
  "language_info": {
   "codemirror_mode": {
    "name": "ipython",
    "version": 3
   },
   "file_extension": ".py",
   "mimetype": "text/x-python",
   "name": "python",
   "nbconvert_exporter": "python",
   "pygments_lexer": "ipython3",
   "version": "3.12.1"
  }
 },
 "nbformat": 4,
 "nbformat_minor": 5
}
