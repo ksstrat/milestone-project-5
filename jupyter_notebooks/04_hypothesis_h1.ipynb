{
 "cells": [
  {
   "cell_type": "markdown",
   "id": "0ed44ea9",
   "metadata": {},
   "source": [
    "# 04 — Hypothesis H1: Texture & Color Variability (GLCM)\n",
    "\n",
    "**Objective**  \n",
    "Quantify texture differences between healthy and mildew-infected cherry leaves using GLCM features to test H1:\n",
    "> Mildew-infected leaves exhibit higher texture and color variability than healthy leaves.\n",
    "\n",
    "**Inputs**  \n",
    "- Image dataset: `inputs/cherry_leaves_dataset/{healthy, powdery_mildew}`\n",
    "\n",
    "**Outputs**  \n",
    "- CSV: `inputs/features/v1/glcm_features.csv` (per-image GLCM features)  \n",
    "- CSV: `inputs/features/v1/glcm_stats.csv` (p-values & effect sizes)  \n",
    "- CSV: `inputs/features/v1/glcm_feature_means.csv` (class-wise means/medians)  \n",
    "- Plot: `plots/v2/glcm_boxplots.png` (boxplots per feature by class)\n",
    "\n",
    "**Notes**  \n",
    "Images are resized to 100×100, converted to grayscale, quantized to fixed gray levels, and GLCM features are averaged across multiple distances and angles."
   ]
  },
  {
   "cell_type": "code",
   "execution_count": 2,
   "id": "18e9ca1a",
   "metadata": {},
   "outputs": [
    {
     "name": "stdout",
     "output_type": "stream",
     "text": [
      "PROJECT_ROOT: C:\\Users\\ksstr\\Documents\\Coding\\milestone-project-5\n",
      "DATA_DIR: C:\\Users\\ksstr\\Documents\\Coding\\milestone-project-5\\inputs\\cherry_leaves_dataset\n",
      "PLOTS_DIR: C:\\Users\\ksstr\\Documents\\Coding\\milestone-project-5\\plots\\v1\n"
     ]
    }
   ],
   "source": [
    "from pathlib import Path\n",
    "import sys\n",
    "\n",
    "def find_project_root(start: Path) -> Path:\n",
    "    \"\"\"Walk up until a folder containing 'src' is found, else return start.\"\"\"\n",
    "    p = start\n",
    "    for _ in range(5):\n",
    "        if (p / \"src\").exists():\n",
    "            return p\n",
    "        p = p.parent\n",
    "    return start\n",
    "\n",
    "PROJECT_ROOT = find_project_root(Path.cwd())\n",
    "if str(PROJECT_ROOT) not in sys.path:\n",
    "    sys.path.insert(0, str(PROJECT_ROOT))\n",
    "\n",
    "from src.paths import DATA_DIR, PLOTS_DIR, PROJECT_ROOT\n",
    "\n",
    "print(\"PROJECT_ROOT:\", PROJECT_ROOT)\n",
    "print(\"DATA_DIR:\", DATA_DIR)\n",
    "print(\"PLOTS_DIR:\", PLOTS_DIR)"
   ]
  },
  {
   "cell_type": "code",
   "execution_count": 3,
   "id": "cafd0769",
   "metadata": {},
   "outputs": [
    {
     "name": "stdout",
     "output_type": "stream",
     "text": [
      "FEATURES_DIR: C:\\Users\\ksstr\\Documents\\Coding\\milestone-project-5\\jupyter_notebooks\\inputs\\features\\v1\n",
      "PLOTS_V2_DIR: C:\\Users\\ksstr\\Documents\\Coding\\milestone-project-5\\plots\\v2\n"
     ]
    }
   ],
   "source": [
    "# Configuration and output directories\n",
    "from pathlib import Path\n",
    "\n",
    "CLASSES = (\"healthy\", \"powdery_mildew\")\n",
    "ALLOWED = {\".jpg\", \".jpeg\", \".png\", \".JPG\", \".JPEG\", \".PNG\"}\n",
    "\n",
    "IMG_SIZE = (100, 100)           # (width, height)\n",
    "GRAY_LEVELS = 32                # quantization levels for GLCM\n",
    "DISTANCES = [1, 2, 3]           # pixel distances\n",
    "ANGLES = [0, 0.25, 0.5, 0.75]   # angles in units of pi (0, π/4, π/2, 3π/4)\n",
    "FEATURES = [\"contrast\", \"energy\", \"homogeneity\", \"correlation\"]\n",
    "\n",
    "# Output locations\n",
    "FEATURES_DIR = Path(\"inputs\") / \"features\" / \"v1\"\n",
    "FEATURES_DIR.mkdir(parents=True, exist_ok=True)\n",
    "\n",
    "PLOTS_V2_DIR = PLOTS_DIR.parent / \"v2\"\n",
    "PLOTS_V2_DIR.mkdir(parents=True, exist_ok=True)\n",
    "\n",
    "print(\"FEATURES_DIR:\", FEATURES_DIR.resolve())\n",
    "print(\"PLOTS_V2_DIR:\", PLOTS_V2_DIR.resolve())"
   ]
  },
  {
   "cell_type": "code",
   "execution_count": 4,
   "id": "5ffcb4ad",
   "metadata": {},
   "outputs": [],
   "source": [
    "# Image loading, grayscale quantization, and GLCM feature computation\n",
    "import numpy as np\n",
    "from PIL import Image\n",
    "from skimage.feature import graycomatrix, graycoprops\n",
    "from pathlib import Path\n",
    "\n",
    "def iter_image_paths(base_dir: Path, label: str):\n",
    "    \"\"\"Yield file paths of valid images inside a class folder.\"\"\"\n",
    "    folder = base_dir / label\n",
    "    if not folder.exists():\n",
    "        return\n",
    "    for p in folder.iterdir():\n",
    "        if p.is_file() and p.suffix in ALLOWED:\n",
    "            yield p\n",
    "\n",
    "def load_gray_quantized(path: Path, size=IMG_SIZE, levels=GRAY_LEVELS) -> np.ndarray:\n",
    "    \"\"\"\n",
    "    Read image, resize to `size`, convert to 8-bit grayscale, then\n",
    "    uniformly quantize to integer gray levels in [0, levels-1].\n",
    "    \"\"\"\n",
    "    with Image.open(path) as im:\n",
    "        im = im.convert(\"L\").resize(size)\n",
    "        arr = np.asarray(im, dtype=np.uint8)           # [0..255]\n",
    "    q = (arr.astype(np.float32) / 255.0) * (levels - 1)\n",
    "    return q.astype(np.uint8)                          # [0..levels-1]\n",
    "\n",
    "def compute_glcm_features(qimg: np.ndarray,\n",
    "                          distances=DISTANCES,\n",
    "                          angles=ANGLES,\n",
    "                          levels=GRAY_LEVELS,\n",
    "                          features=FEATURES) -> dict:\n",
    "    \"\"\"\n",
    "    Compute GLCM features averaged over all distance/angle combinations.\n",
    "    Angles are specified in units of pi (e.g., 0.25 = pi/4).\n",
    "    \"\"\"\n",
    "    angles_rad = np.array(angles, dtype=np.float64) * np.pi\n",
    "    glcm = graycomatrix(\n",
    "        qimg,\n",
    "        distances=distances,\n",
    "        angles=angles_rad,\n",
    "        levels=levels,\n",
    "        symmetric=True,\n",
    "        normed=True\n",
    "    )\n",
    "\n",
    "    out = {}\n",
    "    for feat in features:\n",
    "        vals = graycoprops(glcm, feat)  # shape: (len(distances), len(angles))\n",
    "        out[feat] = float(vals.mean())\n",
    "    return out"
   ]
  },
  {
   "cell_type": "markdown",
   "id": "55d6e886",
   "metadata": {},
   "source": [
    "### Functional Validation — GLCM Feature Pipeline\n",
    "\n",
    "A quick sanity check to verify that the GLCM feature extraction functions\n",
    "(`iter_image_paths`, `load_gray_quantized`, `compute_glcm_features`)\n",
    "return plausible outputs before running the full dataset loop."
   ]
  },
  {
   "cell_type": "code",
   "execution_count": null,
   "id": "09d21f31",
   "metadata": {},
   "outputs": [],
   "source": [
    "from pprint import pprint\n",
    "\n",
    "# Pick one sample image from each class (if available)\n",
    "for cls in CLASSES:\n",
    "    paths = list(iter_image_paths(DATA_DIR, cls))\n",
    "    if not paths:\n",
    "        print(f\"No images found in class: {cls}\")\n",
    "        continue\n",
    "\n",
    "    # Load and quantize one example image\n",
    "    test_img = load_gray_quantized(paths[0])\n",
    "    print(f\"\\n[{cls}] Test image shape:\", test_img.shape,\n",
    "          \"| Range:\", int(test_img.min()), \"-\", int(test_img.max()))\n",
    "\n",
    "    # Compute texture features\n",
    "    feats = compute_glcm_features(test_img)\n",
    "    print(f\"GLCM features for {cls}:\")\n",
    "    pprint(feats)"
   ]
  }
 ],
 "metadata": {
  "kernelspec": {
   "display_name": ".venv",
   "language": "python",
   "name": "python3"
  },
  "language_info": {
   "codemirror_mode": {
    "name": "ipython",
    "version": 3
   },
   "file_extension": ".py",
   "mimetype": "text/x-python",
   "name": "python",
   "nbconvert_exporter": "python",
   "pygments_lexer": "ipython3",
   "version": "3.12.1"
  }
 },
 "nbformat": 4,
 "nbformat_minor": 5
}
